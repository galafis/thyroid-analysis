{
 "cells": [
  {
   "cell_type": "markdown",
   "id": "269f51ac",
   "metadata": {},
   "source": [
    "# Notebook Corrigido: Análise de Tireóide com SMOTE e Storytelling\n",
    "\n",
    "**Olá!** Neste notebook, apresento minha análise de dados de tireoide, passo a passo, com todas as decisões justificadas e insights visualizados.  \n",
    "O objetivo final é construir um classificador que identifique corretamente pacientes com hipotireoidismo, garantindo interpretabilidade e rigor clínico."
   ]
  },
  {
   "cell_type": "markdown",
   "id": "20d0229a",
   "metadata": {},
   "source": [
    "## 1. Importação de Bibliotecas  \n",
    "> **Por que:** Antes de começar, precisamos de ferramentas para manipular dados (`pandas`), preparar conjuntos de treino e teste (`scikit-learn`), lidar com classes desbalanceadas (`imbalanced-learn`) e avaliar/visualizar resultados (`matplotlib`).  \n",
    "> **O que faço aqui:**  \n",
    "> 1. Configuro o ambiente para mostrar todas as colunas e os primeiros resultados de tabela.  \n",
    "> 2. Importo o `SimpleImputer` para tratamento de valores faltantes, o `SMOTE` para balanceamento, o `RandomForestClassifier` para modelagem e métricas para avaliação."
   ]
  },
  {
   "cell_type": "code",
   "execution_count": 3,
   "id": "b0c37dc2",
   "metadata": {},
   "outputs": [],
   "source": [
    "# Bibliotecas Fundamentais\n",
    "import pandas as pd\n",
    "import numpy as np\n",
    "import matplotlib.pyplot as plt\n",
    "import seaborn as sns\n",
    "import warnings\n",
    "\n",
    "# Pré-processamento e Engenharia de Features\n",
    "from sklearn.model_selection import train_test_split, StratifiedKFold, GridSearchCV, RandomizedSearchCV\n",
    "from sklearn.preprocessing import StandardScaler, OneHotEncoder, PolynomialFeatures\n",
    "from sklearn.impute import SimpleImputer, KNNImputer\n",
    "from sklearn.compose import ColumnTransformer\n",
    "from sklearn.pipeline import Pipeline\n",
    "from sklearn.feature_selection import SelectKBest, f_classif, RFE\n",
    "from sklearn.decomposition import PCA\n",
    "from sklearn.manifold import TSNE\n",
    "\n",
    "# Balanceamento de Classes\n",
    "from imblearn.over_sampling import SMOTE, ADASYN, BorderlineSMOTE\n",
    "from imblearn.under_sampling import RandomUnderSampler\n",
    "from imblearn.pipeline import Pipeline as ImbPipeline # Pipeline do imblearn para lidar com sampling\n",
    "\n",
    "# Modelos de Machine Learning\n",
    "from sklearn.linear_model import LogisticRegression\n",
    "from sklearn.ensemble import RandomForestClassifier, GradientBoostingClassifier, AdaBoostClassifier\n",
    "from sklearn.svm import SVC\n",
    "from sklearn.neighbors import KNeighborsClassifier\n",
    "from sklearn.naive_bayes import GaussianNB\n",
    "from sklearn.tree import DecisionTreeClassifier\n",
    "import xgboost as xgb\n",
    "import lightgbm as lgb\n",
    "import catboost as cb\n",
    "# Para Redes Neurais (opcional, dependendo da complexidade desejada)\n",
    "# from tensorflow import keras\n",
    "# from tensorflow.keras import layers\n",
    "\n",
    "# Avaliação de Modelos\n",
    "from sklearn.metrics import classification_report, confusion_matrix, accuracy_score, precision_score, recall_score, f1_score, roc_auc_score, roc_curve\n",
    "from sklearn.calibration import calibration_curve\n",
    "\n",
    "# Interpretabilidade\n",
    "import shap\n",
    "import lime\n",
    "import lime.lime_tabular\n",
    "\n",
    "# Otimização de Hiperparâmetros (Bayesiana)\n",
    "# from skopt import BayesSearchCV # Se for usar otimização Bayesiana\n",
    "\n",
    "# Configurações\n",
    "pd.set_option(\'display.max_columns\', None)\n",
    "pd.set_option(\'display.max_rows\', 50) # Aumentar para ver mais linhas se necessário\n",
    "sns.set_style(\'whitegrid\')\n",
    "plt.rcParams[\'figure.figsize\'] = (12, 8)\n",
    "warnings.filterwarnings(\'ignore\')\n",
    "\n",
    "# Seed para reprodutibilidade\n",
    "SEED = 42\n",
    "np.random.seed(SEED)"
   ]
  }{
   "cell_type": "markdown",
   "id": "7aaf3a4a",
   "metadata": {},
   "source": [
    "## 2. Carregamento dos Dados  \n",
    "> **Por que:** Entender o tamanho e a estrutura dos dados é o primeiro passo para planejar qualquer análise.  \n",
    "> **O que observo:**  \n",
    "> - O dataset _balanced_ tem 6 860 registros e 20 colunas;  \n",
    "> - O _enhanced_ tem 3 709 registros e 46 colunas (com algumas flags que não variam).  \n",
    "  \n",
    "> **Próximo passo:** remover colunas inúteis e preparar para limpeza."
   ]
  },
  {
   "cell_type": "code",
   "execution_count": 5,
   "id": "02d113ab",
   "metadata": {},
   "outputs": [
    {
     "name": "stdout",
     "output_type": "stream",
     "text": [
      "Balanced: (6860, 20)\n",
      "Enhanced: (3709, 46)\n"
     ]
    }
   ],
   "source": [
    "df_bal = pd.read_csv('thyroid_balanced_cleaned.csv')\n",
    "df_enh = pd.read_csv('thyroid_enhanced_cleaned.csv')\n",
    "\n",
    "print('Balanced:', df_bal.shape)\n",
    "print('Enhanced:', df_enh.shape)"
   ]
  },
  {
   "cell_type": "markdown",
   "id": "fe2bf3ab",
   "metadata": {},
   "source": [
    "## 3. Limpeza Inicial  \n",
    "> **Por que:** Dados “mortos” — colunas que não variam — poluem o modelo e desperdiçam memória. Também garanto que a `age` seja inteira, evitando “idades fracionadas”.  \n",
    "> **Decisões:**  \n",
    "> 1. Removo `TBG measured`, pois está sempre “f”;  \n",
    "> 2. Converto `age` para inteiro, arredondando pela mediana, mantendo coerência clínica."
   ]
  },
  {
   "cell_type": "code",
   "execution_count": 7,
   "id": "218ba3e1",
   "metadata": {},
   "outputs": [
    {
     "data": {
      "text/html": [
       "<div>\n",
       "<style scoped>\n",
       "    .dataframe tbody tr th:only-of-type {\n",
       "        vertical-align: middle;\n",
       "    }\n",
       "\n",
       "    .dataframe tbody tr th {\n",
       "        vertical-align: top;\n",
       "    }\n",
       "\n",
       "    .dataframe thead th {\n",
       "        text-align: right;\n",
       "    }\n",
       "</style>\n",
       "<table border=\"1\" class=\"dataframe\">\n",
       "  <thead>\n",
       "    <tr style=\"text-align: right;\">\n",
       "      <th></th>\n",
       "      <th>age</th>\n",
       "      <th>TSH</th>\n",
       "      <th>T3</th>\n",
       "      <th>TT4</th>\n",
       "      <th>T4U</th>\n",
       "      <th>FTI</th>\n",
       "      <th>TSH_log</th>\n",
       "      <th>T3_log</th>\n",
       "      <th>TT4_log</th>\n",
       "      <th>T4_T3_ratio</th>\n",
       "      <th>TSH_T4_ratio</th>\n",
       "      <th>TSH_T3_interaction</th>\n",
       "      <th>TSH_T4_interaction</th>\n",
       "      <th>T3_T4_interaction</th>\n",
       "      <th>sex_encoded</th>\n",
       "      <th>age_group_encoded</th>\n",
       "      <th>TSH_category_encoded</th>\n",
       "      <th>T3_category_encoded</th>\n",
       "      <th>T4_category_encoded</th>\n",
       "      <th>binaryClass</th>\n",
       "    </tr>\n",
       "  </thead>\n",
       "  <tbody>\n",
       "    <tr>\n",
       "      <th>0</th>\n",
       "      <td>41</td>\n",
       "      <td>1.30</td>\n",
       "      <td>2.5</td>\n",
       "      <td>125.0</td>\n",
       "      <td>1.14</td>\n",
       "      <td>109.0</td>\n",
       "      <td>0.832909</td>\n",
       "      <td>1.252763</td>\n",
       "      <td>4.836282</td>\n",
       "      <td>-0.207586</td>\n",
       "      <td>-0.097220</td>\n",
       "      <td>-0.114928</td>\n",
       "      <td>-0.170110</td>\n",
       "      <td>0.502628</td>\n",
       "      <td>0</td>\n",
       "      <td>0</td>\n",
       "      <td>2</td>\n",
       "      <td>0</td>\n",
       "      <td>0</td>\n",
       "      <td>1</td>\n",
       "    </tr>\n",
       "    <tr>\n",
       "      <th>1</th>\n",
       "      <td>23</td>\n",
       "      <td>4.10</td>\n",
       "      <td>2.0</td>\n",
       "      <td>102.0</td>\n",
       "      <td>0.98</td>\n",
       "      <td>107.0</td>\n",
       "      <td>1.629241</td>\n",
       "      <td>1.098612</td>\n",
       "      <td>4.634729</td>\n",
       "      <td>-0.186953</td>\n",
       "      <td>-0.079335</td>\n",
       "      <td>0.039015</td>\n",
       "      <td>0.142460</td>\n",
       "      <td>-0.159277</td>\n",
       "      <td>0</td>\n",
       "      <td>1</td>\n",
       "      <td>0</td>\n",
       "      <td>0</td>\n",
       "      <td>2</td>\n",
       "      <td>1</td>\n",
       "    </tr>\n",
       "    <tr>\n",
       "      <th>2</th>\n",
       "      <td>46</td>\n",
       "      <td>0.98</td>\n",
       "      <td>2.0</td>\n",
       "      <td>109.0</td>\n",
       "      <td>0.91</td>\n",
       "      <td>120.0</td>\n",
       "      <td>0.683097</td>\n",
       "      <td>1.098612</td>\n",
       "      <td>4.700480</td>\n",
       "      <td>-0.114736</td>\n",
       "      <td>-0.098066</td>\n",
       "      <td>-0.155046</td>\n",
       "      <td>-0.238173</td>\n",
       "      <td>-0.073870</td>\n",
       "      <td>1</td>\n",
       "      <td>4</td>\n",
       "      <td>2</td>\n",
       "      <td>0</td>\n",
       "      <td>2</td>\n",
       "      <td>1</td>\n",
       "    </tr>\n",
       "  </tbody>\n",
       "</table>\n",
       "</div>"
      ],
      "text/plain": [
       "   age   TSH   T3    TT4   T4U    FTI   TSH_log    T3_log   TT4_log  \\\n",
       "0   41  1.30  2.5  125.0  1.14  109.0  0.832909  1.252763  4.836282   \n",
       "1   23  4.10  2.0  102.0  0.98  107.0  1.629241  1.098612  4.634729   \n",
       "2   46  0.98  2.0  109.0  0.91  120.0  0.683097  1.098612  4.700480   \n",
       "\n",
       "   T4_T3_ratio  TSH_T4_ratio  TSH_T3_interaction  TSH_T4_interaction  \\\n",
       "0    -0.207586     -0.097220           -0.114928           -0.170110   \n",
       "1    -0.186953     -0.079335            0.039015            0.142460   \n",
       "2    -0.114736     -0.098066           -0.155046           -0.238173   \n",
       "\n",
       "   T3_T4_interaction  sex_encoded  age_group_encoded  TSH_category_encoded  \\\n",
       "0           0.502628            0                  0                     2   \n",
       "1          -0.159277            0                  1                     0   \n",
       "2          -0.073870            1                  4                     2   \n",
       "\n",
       "   T3_category_encoded  T4_category_encoded  binaryClass  \n",
       "0                    0                    0            1  \n",
       "1                    0                    2            1  \n",
       "2                    0                    2            1  "
      ]
     },
     "execution_count": 7,
     "metadata": {},
     "output_type": "execute_result"
    }
   ],
   "source": [
    "# Remover coluna sem variação\n",
    "df_enh = df_enh.drop(columns=['TBG measured'], errors='ignore')\n",
    "\n",
    "# Ajustar idade para inteiro no dataset balanceado\n",
    "if 'age' in df_bal.columns:\n",
    "    df_bal['age'] = df_bal['age'].round().astype(int)\n",
    "    \n",
    "df_bal.head(3)"
   ]
  },
  {
   "cell_type": "markdown",
   "id": "05cc54f8",
   "metadata": {},
   "source": [
    "## 4. Imputação de Valores Faltantes  \n",
    "> **Por que:** Modelos de machine learning não aceitam `NaN`. Escolhi a **mediana** porque é robusta a outliers e preserva a distribuição central dos dados.  \n",
    "> **Como:**  \n",
    "> 1. Identifico a coluna alvo automaticamente (aqui, `binaryClass`);  \n",
    "> 2. Separo `X` e `y`;  \n",
    "> 3. Aplico `SimpleImputer(strategy='median')` em todas as features numéricas.  \n",
    "  \n",
    "> **Checagem:** confirmo que não há mais valores faltantes antes de seguir para codificação."
   ]
  },
  {
   "cell_type": "code",
   "execution_count": 9,
   "id": "2371f0d4",
   "metadata": {},
   "outputs": [
    {
     "name": "stdout",
     "output_type": "stream",
     "text": [
      "Valores faltantes após imputação:\n",
      "age                     0\n",
      "TSH                     0\n",
      "T3                      0\n",
      "TT4                     0\n",
      "T4U                     0\n",
      "                       ..\n",
      "sex_encoded             0\n",
      "age_group_encoded       0\n",
      "TSH_category_encoded    0\n",
      "T3_category_encoded     0\n",
      "T4_category_encoded     0\n",
      "Length: 19, dtype: int64\n"
     ]
    }
   ],
   "source": [
    "# Detectar coluna alvo automaticamente\n",
    "possible_targets = [c for c in df_bal.columns if c.lower() in ['target', 'class', 'binaryclass'] or 'class' in c.lower()]\n",
    "if len(possible_targets) == 1:\n",
    "    target = possible_targets[0]\n",
    "else:\n",
    "    raise ValueError(f\"Coluna alvo não detectada: {possible_targets}\")\n",
    "\n",
    "# Separar features e alvo\n",
    "X = df_bal.drop(columns=[target])\n",
    "y = df_bal[target]\n",
    "\n",
    "# Imputação\n",
    "imputer = SimpleImputer(strategy='median')\n",
    "X_imp = pd.DataFrame(imputer.fit_transform(X), columns=X.columns)\n",
    "\n",
    "# Verificar se há NaNs\n",
    "print('Valores faltantes após imputação:')\n",
    "print(X_imp.isna().sum())"
   ]
  },
  {
   "cell_type": "markdown",
   "id": "f83a4c67",
   "metadata": {},
   "source": [
    "## 5. Codificação de Variáveis Categóricas  \n",
    "> **Por que:** Códigos de máquina só entendem números.  \n",
    "> **Como:**  \n",
    "> - Uso `pd.get_dummies(drop_first=True)` para transformar cada categoria em colunas binárias, evitando multicolinearidade.  \n",
    "  \n",
    "> **Resultado:** o dataset agora só contém valores numéricos."
   ]
  },
  {
   "cell_type": "code",
   "execution_count": 11,
   "id": "2a298251",
   "metadata": {},
   "outputs": [
    {
     "name": "stdout",
     "output_type": "stream",
     "text": [
      "Dimensão após encoding: (6860, 19)\n"
     ]
    }
   ],
   "source": [
    "X_enc = pd.get_dummies(X_imp, drop_first=True)\n",
    "print(f\"Dimensão após encoding: {X_enc.shape}\")"
   ]
  },
  {
   "cell_type": "markdown",
   "id": "7a26797b",
   "metadata": {},
   "source": [
    "## 6. Engenharia de Features  \n",
    "> **Por que:** Criar variáveis derivadas pode revelar relações não lineares que o modelo sozinho não captaria.  \n",
    "> **Exemplo:** a **razão T4/T3** sintetiza o balanço entre hormônios — clinicamente relevante para diferenciar tipos de disfunção tireoidiana.  \n",
    "  \n",
    "> **Próximo:** vou conferir se essa nova coluna ajuda mesmo na predição."
   ]
  },
  {
   "cell_type": "code",
   "execution_count": 13,
   "id": "6b7136a7",
   "metadata": {},
   "outputs": [
    {
     "name": "stdout",
     "output_type": "stream",
     "text": [
      "Features após engenharia: ['age', 'TSH', 'T3', 'TT4', 'T4U', 'FTI', 'TSH_log', 'T3_log', 'TT4_log', 'T4_T3_ratio', 'TSH_T4_ratio', 'TSH_T3_interaction', 'TSH_T4_interaction', 'T3_T4_interaction', 'sex_encoded', 'age_group_encoded', 'TSH_category_encoded', 'T3_category_encoded', 'T4_category_encoded']\n"
     ]
    }
   ],
   "source": [
    "import numpy as np\n",
    "\n",
    "# Exemplo: razão entre T4 e T3, se disponíveis\n",
    "if 'T4' in X_enc.columns and 'T3' in X_enc.columns:\n",
    "    X_enc['T4_T3_ratio'] = X_enc['T4'] / X_enc['T3']\n",
    "    \n",
    "print('Features após engenharia:', X_enc.columns.tolist())"
   ]
  },
  {
   "cell_type": "markdown",
   "id": "2e7b7212",
   "metadata": {},
   "source": [
    "## 7. Divisão Treino/Teste  \n",
    "> **Por que:** Quero simular “dados nunca vistos” para avaliar a real capacidade do modelo.  \n",
    "> **Estratégia:**  \n",
    "> - 30% para teste, 70% para treino;  \n",
    "> - Uso `stratify=y` para manter o mesmo equilíbrio de classes nos dois conjuntos."
   ]
  },
  {
   "cell_type": "code",
   "execution_count": 15,
   "id": "d17fe6c5",
   "metadata": {},
   "outputs": [
    {
     "name": "stdout",
     "output_type": "stream",
     "text": [
      "Treino: (4802, 19), Teste: (2058, 19)\n"
     ]
    }
   ],
   "source": [
    "X_train, X_test, y_train, y_test = train_test_split(\n",
    "    X_enc, y, test_size=0.3, random_state=42, stratify=y\n",
    ")\n",
    "print(f\"Treino: {X_train.shape}, Teste: {X_test.shape}\")"
   ]
  },
  {
   "cell_type": "markdown",
   "id": "606214de",
   "metadata": {},
   "source": [
    "## 8. Balanceamento com SMOTE e Padronização  \n",
    "> **Por que SMOTE no treino:**  \n",
    "> - O _oversampling_ cria exemplos sintéticos **só** em `X_train` para evitar que o conjunto de teste fique “artificial”;  \n",
    "> - Garante que o modelo não seja tendencioso para a classe majoritária.  \n",
    "  \n",
    "> **Por que padronizar:**  \n",
    "> - Random Forest não exige padronização, mas é boa prática para comparabilidade futura com outros algoritmos (e para escalonar features geradas).  \n",
    "  \n",
    "> **Passos:**  \n",
    "> 1. `sm = SMOTE(random_state=42)` → `X_res, y_res = sm.fit_resample(...)`;  \n",
    "> 2. `StandardScaler()` em `X_res` e depois transformo `X_test` com os mesmos parâmetros."
   ]
  },
  {
   "cell_type": "code",
   "execution_count": 17,
   "id": "1a7d6cdb",
   "metadata": {},
   "outputs": [
    {
     "name": "stdout",
     "output_type": "stream",
     "text": [
      "Após SMOTE: (4870, 19) binaryClass\n",
      "0    2435\n",
      "1    2435\n",
      "Name: count, dtype: int64\n"
     ]
    },
    {
     "name": "stderr",
     "output_type": "stream",
     "text": [
      "C:\\Users\\drogg\\anaconda3\\Lib\\site-packages\\joblib\\externals\\loky\\backend\\context.py:136: UserWarning: Could not find the number of physical cores for the following reason:\n",
      "[WinError 2] O sistema não pode encontrar o arquivo especificado\n",
      "Returning the number of logical cores instead. You can silence this warning by setting LOKY_MAX_CPU_COUNT to the number of cores you want to use.\n",
      "  warnings.warn(\n",
      "  File \"C:\\Users\\drogg\\anaconda3\\Lib\\site-packages\\joblib\\externals\\loky\\backend\\context.py\", line 257, in _count_physical_cores\n",
      "    cpu_info = subprocess.run(\n",
      "               ^^^^^^^^^^^^^^^\n",
      "  File \"C:\\Users\\drogg\\anaconda3\\Lib\\subprocess.py\", line 548, in run\n",
      "    with Popen(*popenargs, **kwargs) as process:\n",
      "         ^^^^^^^^^^^^^^^^^^^^^^^^^^^\n",
      "  File \"C:\\Users\\drogg\\anaconda3\\Lib\\subprocess.py\", line 1026, in __init__\n",
      "    self._execute_child(args, executable, preexec_fn, close_fds,\n",
      "  File \"C:\\Users\\drogg\\anaconda3\\Lib\\subprocess.py\", line 1538, in _execute_child\n",
      "    hp, ht, pid, tid = _winapi.CreateProcess(executable, args,\n",
      "                       ^^^^^^^^^^^^^^^^^^^^^^^^^^^^^^^^^^^^^^^\n"
     ]
    }
   ],
   "source": [
    "# Balanceamento\n",
    "sm = SMOTE(random_state=42)\n",
    "X_res, y_res = sm.fit_resample(X_train, y_train)\n",
    "print('Após SMOTE:', X_res.shape, y_res.value_counts())\n",
    "\n",
    "# Padronização\n",
    "scaler = StandardScaler()\n",
    "X_res_scaled = scaler.fit_transform(X_res)\n",
    "X_test_scaled = scaler.transform(X_test)"
   ]
  },
  {
   "cell_type": "markdown",
   "id": "440ddee4",
   "metadata": {},
   "source": [
    "## 9. Treino e Avaliação do Modelo  \n",
    "> **Por que Random Forest:**  \n",
    "> - Combina muitas árvores, reduz overfitting e lida bem com variáveis irrelevantes.  \n",
    "  \n",
    "> **Métricas-chave:**  \n",
    "> - *Precisão*: % de predições corretas;  \n",
    "> - *Recall*: % de casos positivos detectados;  \n",
    "> - *F1-score*: média harmônica entre precisão e recall, importante quando há desequilíbrio.  \n",
    "  \n",
    "> **Resultado inicial:** imprimo o `classification_report` para ver como o modelo se saiu em classes “0” e “1”."
   ]
  },
  {
   "cell_type": "code",
   "execution_count": 19,
   "id": "5ce6b481",
   "metadata": {},
   "outputs": [
    {
     "name": "stdout",
     "output_type": "stream",
     "text": [
      "              precision    recall  f1-score   support\n",
      "\n",
      "           0       0.98      1.00      0.99      1044\n",
      "           1       1.00      0.98      0.99      1014\n",
      "\n",
      "    accuracy                           0.99      2058\n",
      "   macro avg       0.99      0.99      0.99      2058\n",
      "weighted avg       0.99      0.99      0.99      2058\n",
      "\n"
     ]
    }
   ],
   "source": [
    "clf = RandomForestClassifier(random_state=42)\n",
    "clf.fit(X_res_scaled, y_res)\n",
    "y_pred = clf.predict(X_test_scaled)\n",
    "\n",
    "# Relatório de classificação\n",
    "print(classification_report(y_test, y_pred))"
   ]
  },
  {
   "cell_type": "markdown",
   "id": "28b74fce",
   "metadata": {},
   "source": [
    "## 10. Matriz de Confusão  \n",
    "> **Objetivo**: visualizar concretamente os acertos e erros do modelo.  \n",
    "> - **Verdadeiros Positivos (VP)**: pacientes com hipotireoidismo corretamente identificados;  \n",
    "> - **Falsos Negativos (FN)**: pacientes com hipotireoidismo não detectados (risco clínico);  \n",
    "> - **Falsos Positivos (FP)**: pacientes normais classificados como doentes (exames desnecessários);  \n",
    "> - **Verdadeiros Negativos (VN)**: pacientes normais corretamente reconhecidos.  \n",
    "  \n",
    "> **Insight esperado:** Equilibrar VP e FN é crucial — prefiro minimizar FN em contexto médico, mesmo que isso gere mais FP."
   ]
  },
  {
   "cell_type": "code",
   "execution_count": 21,
   "id": "e684a086",
   "metadata": {},
   "outputs": [
    {
     "data": {
      "image/png": "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",
      "text/plain": [
       "<Figure size 640x480 with 2 Axes>"
      ]
     },
     "metadata": {},
     "output_type": "display_data"
    }
   ],
   "source": [
    "from sklearn.metrics import confusion_matrix, ConfusionMatrixDisplay\n",
    "import matplotlib.pyplot as plt\n",
    "\n",
    "# Calcula a matriz de confusão\n",
    "cm = confusion_matrix(y_test, y_pred, labels=clf.classes_)\n",
    "disp = ConfusionMatrixDisplay(confusion_matrix=cm, display_labels=clf.classes_)\n",
    "\n",
    "disp.plot(cmap=plt.cm.Blues)\n",
    "plt.title(\"Matriz de Confusão\")\n",
    "plt.show()"
   ]
  },
  {
   "cell_type": "markdown",
   "id": "57fa293d",
   "metadata": {},
   "source": [
    "**Storytelling**:  \n",
    "- Observe quantos casos de hipotireoidismo (classe “1”) foram confundidos com normais (“0”): cada falso negativo representa um paciente potencialmente não diagnosticado.  \n",
    "- Cada falso positivo indica exame extra desnecessário; balancear esses dois tipos de erro é crucial em aplicações médicas."
   ]
  },
  {
   "cell_type": "markdown",
   "id": "a4d168ba",
   "metadata": {},
   "source": [
    "## 11. Curva ROC e AUC  \n",
    "> **Objetivo**: analisar o trade-off entre *sensibilidade* (TPR) e *especificidade* (1−FPR) em todos os limiares.  \n",
    "> - **AUC** perto de 1.0 significa excelente separação;  \n",
    "> - Ponto ideal na curva: alta sensibilidade com FPR aceitavelmente baixo.  \n",
    "  \n",
    "> **Uso clínico:** Decide qual limiar adotar para triagem inicial, ajustando a agressividade do teste."
   ]
  },
  {
   "cell_type": "code",
   "execution_count": 24,
   "id": "4a311b00",
   "metadata": {},
   "outputs": [
    {
     "data": {
      "image/png": "iVBORw0KGgoAAAANSUhEUgAAAjcAAAHFCAYAAAAOmtghAAAAOnRFWHRTb2Z0d2FyZQBNYXRwbG90bGliIHZlcnNpb24zLjEwLjAsIGh0dHBzOi8vbWF0cGxvdGxpYi5vcmcvlHJYcgAAAAlwSFlzAAAPYQAAD2EBqD+naQAAXXZJREFUeJzt3Xd4VGXexvHvpIdAQi+hhBoQKUIiCIgI0hVclCZILyIqTWBlfVfAhhVRaVKExQVEpIiKSBHpSgsCwipK6EEgQEJNfd4/ZpklJIFMmOQkk/tzXXOR85x2z0nC/PKc55xjM8YYRERERNyEh9UBRERERFxJxY2IiIi4FRU3IiIi4lZU3IiIiIhbUXEjIiIibkXFjYiIiLgVFTciIiLiVlTciIiIiFtRcSMiIiJuRcWNiGTI3r176dOnDxUqVMDPz4/8+fNTt25d3nnnHc6fP291vEyx2WwpXoGBgTRs2JCFCxemu85PP/1Ep06dKFWqFD4+PpQsWZKOHTuybdu2dNdxx2MnkpOpuBGRO5o5cyZhYWHs2LGDUaNGsWrVKpYtW0anTp2YPn06/fr1szpipt0oTLZu3cr06dOJjY2lW7duLFiwINWyH3/8MY0aNeLEiRO88847rF27lvfee4+TJ0/y4IMPMnny5FTruPOxE8mxjIjIbWzdutV4enqa1q1bm+vXr6eaHxcXZ7766iuX7Ovq1asmOTnZJdvKCMA899xzKdqOHDliAPPQQw+laN+8ebPx8PAwjz32mElISEgxLyEhwTz22GPGw8PDbN682dGencdORP5HPTcicltvvvkmNpuNGTNm4Ovrm2q+j48P7du3d0zbbDbGjRuXarny5cvTu3dvx/TcuXOx2WysXr2avn37UqxYMfLly8eiRYuw2WysW7cu1TamTZuGzWZj7969AOzcuZOuXbtSvnx5/P39KV++PE899RRHjx7N9PsNCQmhWLFi/PXXXynaJ0yYgM1mY9q0aXh5eaWY5+XlxdSpU7HZbLz11luOdmePnYi4hoobEUlXUlISP/zwA2FhYZQtWzZL9tG3b1+8vb357LPP+PLLL+nQoQPFixdnzpw5qZadO3cudevWpVatWgAcOXKEqlWrMmnSJL7//nvefvttoqKiuP/++zl37lym8sTExHD+/HlCQ0MdbUlJSaxfv57w8HDKlCmT5nply5YlLCyMH374gaSkpGw5diKSNq87LyIiedW5c+e4evUqFSpUyLJ9PPLII3zyyScp2p5++mmmTZtGTEwMQUFBABw8eJDt27fz8ccfO5br2LEjHTt2dEwnJSXx2GOPUaJECRYsWMCQIUPuuH9jDImJiRhjOHLkCCNHjiRfvnyMHTvWsUxGj0OFChXYvn070dHRGGOy/NiJSNrUcyMilnryySdTtfXt25dr166xaNEiR9ucOXPw9fWlW7dujrbLly/z97//ncqVK+Pl5YWXlxf58+fnypUrHDx4MEP7nzp1Kt7e3vj4+BAaGsp3333HwoULCQsLc/q9GGMA+6k5EbGOihsRSVfRokXJly8fkZGRWbaPUqVKpWq79957uf/++x2nppKSkvj3v//N448/TuHChR3LdevWjcmTJ9O/f3++//57tm/fzo4dOyhWrBjXrl3L0P47d+7Mjh072Lp1K5988gkFChSga9euHDp0yLFMRo/DkSNHyJcvH4ULF86WYyciaVNxIyLp8vT05JFHHmHXrl2cOHEiQ+v4+voSFxeXqj06OjrN5dPr5ejTpw8//fQTBw8eZNWqVURFRdGnTx/H/JiYGL755htGjx7NSy+9xCOPPML9999PzZo1nbp3TLFixQgPD6dBgwYMHDiQ5cuXc+XKFYYPH+5YxtPTk6ZNm7Jz5850j8OJEyfYtWsXzZo1w9PTM1PHTkRcQ8WNiNzWmDFjMMYwYMAA4uPjU81PSEjg66+/dkyXL1/ecTXTDT/88AOXL192ar9PPfUUfn5+zJ07l7lz51K6dGlatmzpmG+z2TDGpLoKadasWSQlJTm1r5s1btyYnj178u2336a4Md+N4zB48OBU209KSuLZZ5/FGMOYMWNSrZPRYycirqEBxSJyWw0aNGDatGkMHjyYsLAwnn32We69914SEhKIiIhgxowZ1KhRg3bt2gHQo0cP/vnPf/LKK6/QpEkTDhw4wOTJkx0DgzOqYMGCdOjQgblz53Lx4kVGjhyJh8f//h4LDAzkoYce4t1336Vo0aKUL1+eDRs2MHv2bAoWLHhX7/m1115j0aJF/POf/2Tt2rUANGrUiEmTJjFs2DAefPBBnn/+ecqVK8exY8eYMmUKP//8M5MmTaJhw4aZPnYi4iKW3WFHRHKVPXv2mF69eply5coZHx8fExAQYOrUqWNeeeUVc+bMGcdycXFxZvTo0aZs2bLG39/fNGnSxOzZs8eEhISYXr16OZabM2eOAcyOHTvS3efq1asNYADz+++/p5p/4sQJ8+STT5pChQqZAgUKmNatW5v9+/en2ld6SOMmfjeMGjXKAGbDhg0p2rdt22Y6duxoSpQoYby8vEzx4sXNE088YbZu3ZrufjJ67ETENWzG/Hd4v4iIiIgb0JgbERERcSsqbkRERMStqLgRERERt6LiRkRERNyKihsRERFxKypuRERExK3kuZv4JScnc+rUKQoUKKCH24mIiOQSxhguXbpEcHBwiht6piXPFTenTp2ibNmyVscQERGRTDh+/DhlypS57TJ5rrgpUKAAYD84gYGBFqcRERGRjIiNjaVs2bKOz/HbyXPFzY1TUYGBgSpuREREcpmMDCnRgGIRERFxKypuRERExK2ouBERERG3ouJGRERE3IqKGxEREXErKm5ERETErai4EREREbei4kZERETcioobERERcSsqbkRERMStWFrcbNy4kXbt2hEcHIzNZmP58uV3XGfDhg2EhYXh5+dHxYoVmT59etYHFRERkVzD0uLmypUr1K5dm8mTJ2do+cjISNq2bUvjxo2JiIjgH//4B0OGDGHJkiVZnFRERERyC0sfnNmmTRvatGmT4eWnT59OuXLlmDRpEgD33HMPO3fu5L333uPJJ5/MopQiuZ8xhmQDycaQbAzmv18nJdvb05ufbCA5+X/Tju3dsu2021MkuCVP2nNStpu021NuKt3l0t9f+svfzfu6/bac264h/Y05fbxSbind/ZOpY3/n7d718crA+zLpfeMzuq2sOl6ZyZLOCrfdVoZ+ptJe/lbOH/tb1r9p7uP3laZ0Qf9095WVctVTwbdt20bLli1TtLVq1YrZs2eTkJCAt7d3qnXi4uKIi4tzTMfGxmZ5Tsk4898P2MRkQ0JSMolJhoRk+783f52QlPzf5ZJJuGVeYlIyCcn2f1O032hLNiQn/+/DO+UH+Y0PdkNS8u3n/2/9/xUG/ysC0ioSblo3OeVy6c2/eXvGQNJN8zOSy16spM4lIpIdArlMM489LE9+kLrlCqm4yYjTp09TokSJFG0lSpQgMTGRc+fOUapUqVTrTJgwgfHjx2dXRLeQnGy4cDWeC1cTuBqfyLX4JK4mJNn/jU/iWnwiV298nZDE1f9OX09I+l97fBLxicm3LUCSkg0JSfrkFRFxB/fZ/uBj748pYLvKhrhalmbJVcUNgM1mSzF9o3vt1vYbxowZw4gRIxzTsbGxlC1bNusC5lBJ/y1Yzl2O49wl+79nL8XZ/70cx7nL8Zz773T0lXiS9Od+lrPZwMNmw8Nm//n1cEzbUszz9LDddn7KaRseHjcve5tte9y0jmM7Ny3rcWPd/26HlL9nKX7jbDd/edMytjQXSWNeOuuks5Nbf91vnszQdlMsn/b/HZnb1q3rZ/PxSmeFu91Wyu9JFh6v23yP09r/7beVzjrZfbxu3VoGfg7TP/a3bsqVx8vZ71fq5avu+Z4C0cHsfWAibweUIbREgbRDZYNcVdyULFmS06dPp2g7c+YMXl5eFClSJM11fH198fX1zY54qSQnG/44e5nfTl/iyLkrdzw9kJSczPmr8Zy/Es+5y/HEXku46wz2oiaB81fisvX0hIcNfL088fK04e3pgZeH/V9PD5u9zcMDL08bXp4eeN9o++9yXp4eeHva8LqxjMfNy3mkWD+j63je8kGdqiC4qQjw9Li1gLhNkeBhwzO9+R5pFyCe//36dh8SIiK5wtXzcHIXVGkBVd8FmwcPeaYeIpLdclVx06BBA77++usUbatXryY8PDzN8TZW2n8yhucX7OZI9FWro2SYl4eNIvl9KJrfl6L5fSkS4EOArxf5fDzx8/Ykn4/95e/j9d9/Pcnn7Uk+Hy/71z6e+Hvb2329PPThLSLizo79DF/2BZMMQ3aDtzXja9JiaXFz+fJl/vjjD8d0ZGQke/bsoXDhwpQrV44xY8Zw8uRJ5s2bB8CgQYOYPHkyI0aMYMCAAWzbto3Zs2ezcOFCq95CClfiEpm09ndmb450SS+Jr5cHHndZINhsUNDfm6IFfP9btPyveLG3+VDsv9NB/t54eKggERGR20hOhq0fwrrXoMz90PHTHFXYgMXFzc6dO2natKlj+sbYmF69ejF37lyioqI4duyYY36FChVYuXIlw4cPZ8qUKQQHB/PRRx/liMvAD5+9TIsPNqYaq1IqyI8u95elWskC+Hp53nYbNhsUyudDkfw+FAnwxd/n9suLiIhku/Wvw6b34cER0PRl8Mx5J4Fs5nYXvLuh2NhYgoKCiImJITAw0GXb/XRzJK9+cyBFW1hIIT7pEUbR/NaM+REREXGZhGv2HprYU3DmIFR+JFt378znd84rt3Kpm29w5uPpwZaXmlGsgIoaERHJ5ZKTYNNEiJgHz2yEwGD7KwdTcZMFJnaprcJGRERyv8tnYOkAOLwBmowGX9ed8chKKm5EREQktSObYXEf+9c9l0PFh61M4xQVNyIiIpKazQNK1oS/TYMCJe68fA5i6VPBRUREJAeJjYLV/7SPswlpCD2W5rrCBlTciIiICMAf62D6g7BvMVw8duflczAVNyIiInlZUiKsHQ//fgKC74NBm6FwBatT3RWNuREREcnLDq6ALR9C83HQcCh45P5+DxU3IiIiedHZ36FYKNzbAYpXh+LVrE7kMrm/PBMREZGMS0qwDxqeUs/+8Eubza0KG1DPjYiISN5x8Zj9Sd6nIqDl61C2ntWJsoSKGxERkbzg5G747G/gGwR9v4cy4VYnyjIqbkRERPKCYlXhvu72xyj4F7I6TZbSmBsRERF3dT4S5j4G5w6BTwC0nuD2hQ2ouBEREXFPvy6HTx6CmOOQeN3qNNlKp6VERETcScJ1WP0y7JgF1f8G7T8CvyCrU2UrFTciIiLu5PJpOPAVPDoRwvvaL/XOY1TciIiIuIODX0PFh6FQeRj6i32MTR6lMTciIiK5WcI1WDEEFj0NexfZ2/JwYQPquREREcm9zv4Oi3vD+T+h/cdQp4fViXIEFTciIiK50eWzMLMpBAbDgPVQorrViXIMFTciIiK5ScI18PKD/MXg8SlQpUWePw11K425ERERyS3OHIQZD8NPU+3T9/5NhU0aVNyIiIjkdMbA7s9gRlOweUClR6xOlKPptJSIiEhOlnAdvh5ivxKqbk9o/Tb45LM6VY6m4kZERCQn8/SxPz7hiVlQq5PVaXIFFTciIiI5jTGwaw4UrgQVm0DneVYnylU05kZERCQnuR4LX/aBb4bDkU1Wp8mV1HMjIiKSU5yKgMV94Go0dJwDNZ6wOlGupOJGREQkJ0hOgqUD7U/w7rEUCle0OlGupeJGRETEStcu2m/MF1gKui2CwNLg5Wt1qlxNY25ERESscmIXfNIYVrxgny5cUYWNC6i4ERERyW7GwNbJ8GlLCCgGj75vdSK3otNSIiIi2W1JP9i/BBo8D4+MBS8fqxO5FRU3IiIi2S20NdTsBFXbWJ3ELam4ERERyWrJybD1I4g9CW3fhVqdrU7k1jTmRkREJCtdOQcLOsPasfYneBtjdSK3p54bERGRrHJki318TVI8dF8CVZpbnShPUHEjIiKSVX5dZr+8+8lZEBhsdZo8Q8WNiIiIK10+A6f2QGhLaPUG2DzBUx+32UlHW0RExFUOb4ClA+w34qu4Uzfks4gGFIuIiNyt5CRYPwHmPQ7FqkK/tSpsLKSeGxERkbu15hX4aSo0/Qc0fhE8PK1OlKepuBEREcms+Cv2y7sfeNZ+Y74Kja1OJOi0lIiIiPOSEmHdqzC1AVyPgaAyKmxyEPXciIiIOCPmpP3eNce3Q7P/A58CVieSW6i4ERERyag/1sGS/uDtD72/hZAGVieSNKi4ERERyShPHyj3ALSfDAFFrE4j6dCYGxERkdu5eAy+f9l+uXeFxvDUQhU2OZyKGxERkfT851uY3hgOfAWxp6xOIxmk4kZERORWifGwagx83g1CGsGgTVCwrNWpJIM05kZERORWvy6D7TOh9VtQfxDYbFYnEieouBEREbnhrwNQojrU6gyl60LRKlYnkkzQaSkREZGE6/DtSJjWAE7utvfUqLDJtdRzIyIieVv0n7C4N5z9DR59H4LrWJ1I7pKKGxERybuO/Qz/fhLyF4f+a6FULasTiQtYflpq6tSpVKhQAT8/P8LCwti0adNtl58/fz61a9cmX758lCpVij59+hAdHZ1NaUVExC0YY/+3xL0Q3hue2aDCxo1YWtwsWrSIYcOG8fLLLxMREUHjxo1p06YNx44dS3P5zZs307NnT/r168evv/7K4sWL2bFjB/3798/m5CIikmudOwRz2thPR/nmh5avg6+eD+VOLC1uJk6cSL9+/ejfvz/33HMPkyZNomzZskybNi3N5X/66SfKly/PkCFDqFChAg8++CDPPPMMO3fuzObkIiKSK/2yCD5pAlejISnB6jSSRSwrbuLj49m1axctW7ZM0d6yZUu2bt2a5joNGzbkxIkTrFy5EmMMf/31F19++SWPPvpouvuJi4sjNjY2xUtERPKY+Cuw/DlYNhCqt4cB66F4NatTSRaxrLg5d+4cSUlJlChRIkV7iRIlOH36dJrrNGzYkPnz59OlSxd8fHwoWbIkBQsW5OOPP053PxMmTCAoKMjxKltWd5gUEclzLv8Ff6yBx6dCh+n201HitiwfUGy75a6PxphUbTccOHCAIUOG8Morr7Br1y5WrVpFZGQkgwYNSnf7Y8aMISYmxvE6fvy4S/OLiEgOZQzsXwJxl6FwRRj6C9TpbnUqyQaWXQpetGhRPD09U/XSnDlzJlVvzg0TJkygUaNGjBo1CoBatWoREBBA48aNef311ylVqlSqdXx9ffH19XX9GxARkZwr7jJ8OwL2LoLHp0Cdp8Hb3+pUkk0s67nx8fEhLCyMNWvWpGhfs2YNDRs2THOdq1ev4uGRMrKnpydg7/ERERHh9H6Y8bD9id5PzLIXNpKnWHoTvxEjRtCjRw/Cw8Np0KABM2bM4NixY47TTGPGjOHkyZPMmzcPgHbt2jFgwACmTZtGq1atiIqKYtiwYdSrV4/g4GAr34qIiOQEsadgVnMoUhkGboCila1OJBawtLjp0qUL0dHRvPrqq0RFRVGjRg1WrlxJSEgIAFFRUSnuedO7d28uXbrE5MmTefHFFylYsCDNmjXj7bfftuotiIhIThB/BbzzQWAwPDEDqrQEbz+rU4lFbCaPnc+JjY0lKCiImJgYAgMDXbbdWZsO8/q3BwGY3K0Oj9VST5KISLaI+sX+bKj6g6D+M1ankSzizOe35VdLiYiIZIoxsH2m/TSUbwGo0sLqRJJD6MGZIiKS+8RfgWWD4OAKqPcMtHwNvHRlrNipuBERkdzHyw9sNuj8mf2OwyI3UXEjIiK5gzHw0zT707vLPwid51mdSHIojbkREZGc7+p5+LwbfD8Gjv1kdRrJ4dRzIyIiOdvx7fBlX4i7BE99DlXbWJ1IcjgVNyIiknMlJcKyZ+z3r3lyNhTUw4/lzlTciIhIznMlGpLiIbAUPL0UgsqAp7fVqSSX0JgbERHJWY5uhekPwrcv2qcLV1BhI05RcSMiIjlDcjJsfA/mPmYvaB59z+pEkkvptJSIiFjPGFj0NPy2Eh4aCU1eAk99REnm6CdHRESsZYz9hnzVH4d6A6BSU6sTSS6n4kZERKyRnAQb3oFrF6DtO1C7i9WJxE1ozI2IiGS/S6dh3uOw8R3IV8TeeyPiIuq5ERGR7PXnD7B0INg8oecKqNDY6kTiZlTciIhI9jqwAkrWhA4zIH8xq9OIG1JxIyIiWS/mJPy1H0JbQZu3wcMbPDQyQrKGihsREclah9bYT0PlKwyVmoGXr9WJxM2pbBYRkayRlABrXoH5HaFMOPRdrTsNS7ZQz42IiGSNVWNg1xxo8Ro0eF6noSTbqLgRERHXirsEvgWg0RCo1RnK1rM6keQxKqNFRMQ1EuPtvTXTGtkLnILlVNiIJdRzIyIid+/CEVjcB07vg5avgU9+qxNJHqbiRkRE7s5vq+xXQ/kXhH7fQ+kwqxNJHqfiRkRE7o63H1RuBo9Nshc4IhbTmBsREXFe9J/28TXJyVDxYeg0V4WN5BgqbkRExDn7voRPmsDvq+DyX1anEUlFp6VERCRjEq797941NZ60n4byC7Q6lUgqKm5ERCRj9i+BXxZCuw+hbi+w2axOJJImFTciInJ7UXuhVC24rzuENITCFa1OJHJbGnMjIiJpi78Cy5+DTxrb719js6mwkVxBPTciIpLamYOwuDdcOAqPT4ESNaxOJJJhKm5ERCSlyE0wvxMUCoGBP0LxalYnEnFKpk5LJSYmsnbtWj755BMuXboEwKlTp7h8+bJLw4mISDYyxv5v8H3wwLMwYL0KG8mVnO65OXr0KK1bt+bYsWPExcXRokULChQowDvvvMP169eZPn16VuQUEZGsdHo/fD0EnpxlH1fTfKzViUQyzemem6FDhxIeHs6FCxfw9/d3tHfo0IF169a5NJyIiGQxY2DnpzCzGSTG/a/3RiQXc7rnZvPmzWzZsgUfH58U7SEhIZw8edJlwUREJItdj4Wvh8KvSyGsD7SeAN7+d15PJIdzurhJTk4mKSkpVfuJEycoUKCAS0KJiEg2uHwGjm6Fjp/a7zgs4iacPi3VokULJk2a5Ji22WxcvnyZsWPH0rZtW1dmExERVzMG9iy038OmaGUY+osKG3E7TvfcfPDBBzRt2pTq1atz/fp1unXrxqFDhyhatCgLFy7MiowiIuIK1y7Cihfg4Arw8IJancDbz+pUIi7ndHETHBzMnj17+Pzzz9m1axfJycn069eP7t27pxhgLCIiOcjJXbC4j73A6fwZVG9vdSKRLON0cbNx40YaNmxInz596NOnj6M9MTGRjRs38tBDD7k0oIiI3KWLx+DT1va7DPdaAYXKW51IJEs5PeamadOmnD9/PlV7TEwMTZs2dUkoERFxgeux9jE2BctBp7nQ93sVNpInOF3cGGOwpfGY++joaAICAlwSSkRE7tLx7TCtIeycbZ+u9ih4+dx+HRE3keHTUk888QRgvzqqd+/e+Pr6OuYlJSWxd+9eGjZs6PqEIiKSccnJsPUjWPcqlA6DKq2sTiSS7TJc3AQFBQH2npsCBQqkGDzs4+PDAw88wIABA1yfUEREMuZ6LHzZF/5YA42GQrN/gqe31alEsl2Gi5s5c+YAUL58eUaOHKlTUCIiOY1PAPjkg26LIbSl1WlELOP01VJjx+phaiIiOUZyMmyeCCEN7a/O86xOJGI5p4sbgC+//JIvvviCY8eOER8fn2Le7t27XRJMRETu4PIZWDoQDv8ILV+3Fzci4vzVUh999BF9+vShePHiREREUK9ePYoUKcLhw4dp06ZNVmQUEZFbRW6E6Q/CX/uhx1Jo+LzViURyDKeLm6lTpzJjxgwmT56Mj48Po0ePZs2aNQwZMoSYmJisyCgiIjdLjIevnoOioTBoM1RqZnUikRzF6eLm2LFjjku+/f39uXTpEgA9evTQs6VERLLSpdMQG2W/X02vb6DnV1CgpNWpRHIcp4ubkiVLEh0dDUBISAg//fQTAJGRkRhjXJtORETs/vzBfhpq1Uv26UIh4OFpbSaRHMrp4qZZs2Z8/fXXAPTr14/hw4fTokULunTpQocOHVweUEQkT0tKhHWvwWdPQMma0PY9qxOJ5HhOXy01Y8YMkpOTARg0aBCFCxdm8+bNtGvXjkGDBrk8oIhInmUMLOhkvxqq2f/BgyPAw+m/SUXyHKeLGw8PDzxu+uXq3LkznTt3BuDkyZOULl3adelERPIqY8Bmg1pd4aFRusxbxAku+RPg9OnTvPDCC1SuXNnpdadOnUqFChXw8/MjLCyMTZs23Xb5uLg4Xn75ZUJCQvD19aVSpUp8+umnmY0uIpKzJCXAmldg1Rj7dO0uKmxEnJTh4ubixYt0796dYsWKERwczEcffURycjKvvPIKFStW5KeffnK6yFi0aBHDhg3j5ZdfJiIigsaNG9OmTRuOHTuW7jqdO3dm3bp1zJ49m99++42FCxdSrVo1p/YrIpIjXTwOc9rCtikQGGzvvRERp2X4tNQ//vEPNm7cSK9evVi1ahXDhw9n1apVXL9+ne+++44mTZo4vfOJEyfSr18/+vfvD8CkSZP4/vvvmTZtGhMmTEi1/KpVq9iwYQOHDx+mcOHCgP1ZVyIiud5/VsLyZ8G3APT5DsrWszqRSK6V4Z6bb7/9ljlz5vDee++xYsUKjDGEhobyww8/ZKqwiY+PZ9euXbRsmfLhbi1btmTr1q1prrNixQrCw8N55513KF26NKGhoYwcOZJr166lu5+4uDhiY2NTvEREcpzfv7OffnpmowobkbuU4Z6bU6dOUb16dQAqVqyIn5+fo8clM86dO0dSUhIlSpRI0V6iRAlOnz6d5jqHDx9m8+bN+Pn5sWzZMs6dO8fgwYM5f/58uqfEJkyYwPjx4zOdU0Qky1w4Amd/g9BW0PZ98PS2DyIWkbuS4Z6b5ORkvL29HdOenp4EBATcdQDbLb/IxphUbTdnsNlszJ8/n3r16tG2bVsmTpzI3Llz0+29GTNmDDExMY7X8ePH7zqziMhdO7ACpj8Ea8dDcpL9rsMqbERcIsM9N8YYevfuja+vLwDXr19n0KBBqQqcpUuXZmh7RYsWxdPTM1UvzZkzZ1L15txQqlQpSpcuTVBQkKPtnnvuwRjDiRMnqFKlSqp1fH19HZlFRCyXGAer/w+2z4B72kP7j3WnYREXy3DPTa9evShevDhBQUEEBQXx9NNPExwc7Ji+8cooHx8fwsLCWLNmTYr2NWvWOJ5ddatGjRpx6tQpLl++7Gj7/fff8fDwoEyZMhnet4iIZb59EXbNtd9puPM88C9odSIRt5Phnps5c+a4fOcjRoygR48ehIeH06BBA2bMmMGxY8ccdzoeM2YMJ0+eZN68eQB069aN1157jT59+jB+/HjOnTvHqFGj6Nu3L/7+/i7PJyLiMtdjwC/IfkO++/tD8H1WJxJxW07fodiVunTpQnR0NK+++ipRUVHUqFGDlStXEhISAkBUVFSKe97kz5+fNWvW8MILLxAeHk6RIkXo3Lkzr7/+ulVvQUTk9hKu2W/Id/hHeHaL/YGXhUKsTiXi1iwtbgAGDx7M4MGD05w3d+7cVG3VqlVLdSpLRCRHOncIFveG6D+gzdvgnc/qRCJ5guXFjYiIW/p1OSwfbL/TcP91ULKG1YlE8gwVNyIiWcEvEKq3tw8c9s1vdRqRPMUlD84UERHgzH/gu79DcjJUagYdpquwEbFApoqbzz77jEaNGhEcHMzRo0cB+3OhvvrqK5eGExHJNSLmw4yH4fAGuBptdRqRPM3p4mbatGmMGDGCtm3bcvHiRZKSkgAoWLAgkyZNcnU+EZGcLe4yLBsEXw2Gmk/CgB8gfzGrU4nkaU4XNx9//DEzZ87k5ZdfxtPzf3fVDA8PZ9++fS4NJyKS4+1dZH+UQocZ8PgU8NEVUSJWc3pAcWRkJHXq1EnV7uvry5UrV1wSSkQkRzMGTkVA6boQ1geqtICC5axOJSL/5XTPTYUKFdizZ0+q9u+++87x1HAREbd1PRaW9IOZzexP9PbwUGEjksM43XMzatQonnvuOa5fv44xhu3bt7Nw4UImTJjArFmzsiKjiEjOEPWL/aZ8l89Cx9lQrKrViUQkDU4XN3369CExMZHRo0dz9epVunXrRunSpfnwww/p2rVrVmQUEbHeH+tgYVcofg90/xKKVLI6kYikI1M38RswYAADBgzg3LlzJCcnU7x4cVfnEhHJGYwBmw3KhMODI6DxCPDytTqViNyG02Nuxo8fz59//glA0aJFVdiIiPs6uQtmNIELR+xP9G46RoWNSC7gdHGzZMkSQkNDeeCBB5g8eTJnz57NilwiItYxBn6aBrNbgc0TsFmdSESc4HRxs3fvXvbu3UuzZs2YOHEipUuXpm3btixYsICrV69mRUYRkexz9Tx83h1WvQT1BkLf76FQiNWpRMQJmXr8wr333subb77J4cOHWb9+PRUqVGDYsGGULFnS1flERLLXlbP2q6K6LoTWb4KXj9WJRMRJd/3gzICAAPz9/fHx8SEhIcEVmUREsldyMuz6F8RftV/ePSQCqrW1OpWIZFKmipvIyEjeeOMNqlevTnh4OLt372bcuHGcPn3a1flERLLWlWj7Jd5fD4E/1trb1Fsjkqs5fSl4gwYN2L59OzVr1qRPnz6O+9yIiOQ6R7fZ7zaccA26LYbQllYnEhEXcLq4adq0KbNmzeLee+/NijwiItkj+k+Y+yiUrQ9PzoIg/ZEm4i6cLm7efPPNrMghIpI9rl2037OmSCXougAqNwfPTN3PVERyqAz9Ro8YMYLXXnuNgIAARowYcdtlJ06c6JJgIiIuF7kJlvSHpv+AsF5QtbXViUQkC2SouImIiHBcCRUREZGlgUREXC45CTa+BxvegpBGENrK6kQikoUyVNysX78+za9FRHK8axfhix72XpuHX4KHRoGHp9WpRCQLOX0peN++fbl06VKq9itXrtC3b1+XhBIRcRmf/JCvCPRaYS9uVNiIuD2ni5t//etfXLt2LVX7tWvXmDdvnktCiYjclaRE+OENOPazfbBwp7lQ4SGrU4lINsnwJQKxsbEYYzDGcOnSJfz8/BzzkpKSWLlypZ4QLiLWiz1lHzR8bBvkLw7l6ludSESyWYaLm4IFC2Kz2bDZbISGhqaab7PZGD9+vEvDiYg45dBaWDYQPH2h97cQ0tDqRCJigQwXN+vXr8cYQ7NmzViyZAmFCxd2zPPx8SEkJITg4OAsCSkickcJ1+HroRBcFzp8AgFFrE4kIhbJcHHTpEkTwP5cqXLlymGz2bIslIhIhsWcAA8vKFAS+q6CwNLgcdfPBBaRXCxDxc3evXupUaMGHh4exMTEsG/fvnSXrVWrlsvCiYjc1m/fwfJnoXILeHImFCxrdSIRyQEyVNzcd999nD59muLFi3Pfffdhs9kwxqRazmazkZSU5PKQIiIpJMbDuvGwbTJUbQtt3rY6kYjkIBkqbiIjIylWrJjjaxERyyQnw2d/g+PbodUEeOBZ0GlyEblJhoqbkJCQNL8WEclWxtjH09TtCS1fg9JhVicSkRwoUzfx+/bbbx3To0ePpmDBgjRs2JCjR4+6NJyICACJcbByFKz+P/t07a4qbEQkXU4XN2+++Sb+/v4AbNu2jcmTJ/POO+9QtGhRhg8f7vKAIpLHnT8Ms1vCrrlQqLzVaUQkF8jwpeA3HD9+nMqVKwOwfPlyOnbsyMCBA2nUqBEPP/ywq/OJSF726zJYMcT+bKh+ayD4PqsTiUgu4HTPTf78+YmOjgZg9erVNG/eHAA/P780nzklIpJph9ZA5ebwzEYVNiKSYU733LRo0YL+/ftTp04dfv/9dx599FEAfv31V8qXL+/qfCKS15z7A87/CaGtoN2H9hv06WooEXGC0z03U6ZMoUGDBpw9e5YlS5ZQpIj9Fue7du3iqaeecnlAEclD9n4BnzwE69+0X/Lt6a3CRkSc5nTPTcGCBZk8eXKqdj00U0QyLf4qfDcaIj6DWl3g0Yl6hIKIZJrTxQ3AxYsXmT17NgcPHsRms3HPPffQr18/goKCXJ1PRPKCb4bDga/g8SlwX3f11ojIXXH6T6OdO3dSqVIlPvjgA86fP8+5c+f44IMPqFSpErt3786KjCLirq5dsP/78EswcD3UeVqFjYjcNad7boYPH0779u2ZOXMmXl721RMTE+nfvz/Dhg1j48aNLg8pIm4m7jKsHGl/hMKzW6FwBasTiYgbcbq42blzZ4rCBsDLy4vRo0cTHh7u0nAi4ob++hUW94aYk/DYRPD2szqRiLgZp09LBQYGcuzYsVTtx48fp0CBAi4JJSJu6pdFMLMZeHjDwB/tj1EQEXExp4ubLl260K9fPxYtWsTx48c5ceIEn3/+Of3799el4CJye/mK2AuaAeugWKjVaUTETTl9Wuq9997DZrPRs2dPEhMTAfD29ubZZ5/lrbfecnlAEcnlovZCxL+hzdtQpbn9JSKShZwubnx8fPjwww+ZMGECf/75J8YYKleuTL58+bIin4jkVsbAjlnw/cv2XpprFyBfYatTiUgekOHTUlevXuW5556jdOnSFC9enP79+1OqVClq1aqlwkZEUroeA4t72a+IqtsT+q1VYSMi2SbDxc3YsWOZO3cujz76KF27dmXNmjU8++yzWZlNRHKrXz6HP9dDp3/Bo+/piigRyVYZPi21dOlSZs+eTdeu9qsbnn76aRo1akRSUhKenp5ZFlBEcglj4OQuKBMO9w+Aao9BUGmrU4lIHpThnpvjx4/TuHFjx3S9evXw8vLi1KlTWRJMRHKRaxdg0dMwuwVE/2l/LpQKGxGxSIZ7bpKSkvDx8Um5speX44opEcmjTuyExX0gLga6/BuKVLI6kYjkcRkubowx9O7dG19fX0fb9evXGTRoEAEBAY62pUuXujahiORcv31n77EJrgN9voWC5axOJCKS8eKmV69eqdqefvppl4YRkVzCGPsDLss1gIfHQKOh4OltdSoREcCJ4mbOnDlZmUNEcotjP8G3L8JTC+09NQ+NtDqRiEgKTj9+wdWmTp1KhQoV8PPzIywsjE2bNmVovS1btuDl5cV9992XtQFFxC45GTa9D3Pagm8BsOkqSRHJmSwtbhYtWsSwYcN4+eWXiYiIoHHjxrRp0ybNB3PeLCYmhp49e/LII49kU1KRPO7yWZjfEda9Bg8Og17f6GooEcmxLC1uJk6cSL9+/ejfvz/33HMPkyZNomzZskybNu226z3zzDN069aNBg0aZFNSkTzu6jk4dwieXgKPvAKeTj+5RUQk21hW3MTHx7Nr1y5atmyZor1ly5Zs3bo13fXmzJnDn3/+ydixY7M6okjelpxkfzZUwjUofg8M2Q2V1VsqIjmfZX9+nTt3jqSkJEqUKJGivUSJEpw+fTrNdQ4dOsRLL73Epk2b8PLKWPS4uDji4uIc07GxsZkPLZJXXPoLlg6AyI0QWAaqttbVUCKSa2Sq5+azzz6jUaNGBAcHc/ToUQAmTZrEV1995fS2bDZbimljTKo2sN9EsFu3bowfP57Q0NAMb3/ChAkEBQU5XmXLlnU6o0iecvhHmP4gnP0P9PzKXtiIiOQiThc306ZNY8SIEbRt25aLFy+SlJQEQMGCBZk0aVKGt1O0aFE8PT1T9dKcOXMmVW8OwKVLl9i5cyfPP/88Xl5eeHl58eqrr/LLL7/g5eXFDz/8kOZ+xowZQ0xMjON1/PjxjL9Zkbzm7G8w729QojoM2gwVm1idSETEaU4XNx9//DEzZ87k5ZdfTvHAzPDwcPbt25fh7fj4+BAWFsaaNWtStK9Zs4aGDRumWj4wMJB9+/axZ88ex2vQoEFUrVqVPXv2UL9+/TT34+vrS2BgYIqXiNzi6nn7jfmKVYXui+HppZC/uNWpREQyxekxN5GRkdSpUydVu6+vL1euXHFqWyNGjKBHjx6Eh4fToEEDZsyYwbFjxxg0aBBg73U5efIk8+bNw8PDgxo1aqRYv3jx4vj5+aVqFxEnHFoLywZCi9egTneo0sLqRCIid8Xp4qZChQrs2bOHkJCQFO3fffcd1atXd2pbXbp0ITo6mldffZWoqChq1KjBypUrHduOioq64z1vRCSTkhJh/euw+QOo3BxCW1mdSETEJZwubkaNGsVzzz3H9evXMcawfft2Fi5cyIQJE5g1a5bTAQYPHszgwYPTnDd37tzbrjtu3DjGjRvn9D5F8ryr52HhU3BiBzQfBw2HgoflNywXEXEJp4ubPn36kJiYyOjRo7l69SrdunWjdOnSfPjhh3Tt2jUrMoqIq/kWgMBg6LMSyj1gdRoREZfK1H1uBgwYwIABAzh37hzJyckUL66BhyI5XmI8/PAaVH8cyoRDJz0MV0Tc013dxK9o0aKuyiEiWenCUfiyL0T9Yr8iqky41YlERLJMpgYUp3WTvRsOHz58V4FExMUOfgNfDQa/IOj7PZQJszqRiEiWcrq4GTZsWIrphIQEIiIiWLVqFaNGjXJVLhFxhfgrsHIklG8Mj08B/4JWJxIRyXJOFzdDhw5Ns33KlCns3LnzrgOJiAucPww++e034uu/zj54+DY9riIi7sRl1362adOGJUuWuGpzIpJZvy6DT5rAuvH26aDSKmxEJE9x2VPBv/zySwoXLuyqzYmIsxKuw/f/gJ2z4d4O0GqC1YlERCzhdHFTp06dFAOKjTGcPn2as2fPMnXqVJeGE5EMSk6CuW3h9H54dCKE91VvjYjkWU4XN3/7299STHt4eFCsWDEefvhhqlWr5qpcIpJRycng4Qn1BkLx6lCqltWJREQs5VRxk5iYSPny5WnVqhUlS5bMqkwikhHxV2HV38GvILR8DWrrDuEiIuDkgGIvLy+effZZ4uLisiqPiGTE2d9g1iOwdzEUDbU6jYhIjuL01VL169cnIiIiK7KISEbsWQAzHraPsxm4Hur2sDqRiEiO4vSYm8GDB/Piiy9y4sQJwsLCCAgISDG/Vi2d7xfJUod/hHufgLbvgE/AHRcXEclrMlzc9O3bl0mTJtGlSxcAhgwZ4phns9kwxmCz2UhKSnJ9SpG87q8DEHMcQlvB41PB02V3cRARcTsZ/h/yX//6F2+99RaRkZFZmUdEbmYMRHwGK0dBqfugSksVNiIid5Dh/yWNMQCEhIRkWRgRuUncJfhmBOz7Aur2gjZv6941IiIZ4NSfgLd7GriIuNhXz8Mfa+HJ2VCzo9VpRERyDaeKm9DQ0DsWOOfPn7+rQCJ5mjFw7QLkKwyPvGJ/FalkdSoRkVzFqeJm/PjxBAUFZVUWkbztegx8PRT++hUGbVFRIyKSSU4VN127dqV48eJZlUUk7zoVAYv7wNVoaP8xePlYnUhEJNfKcHGj8TYiWWT3PPj2RShxL/RYBoUrWJ1IRCRXc/pqKRFxsfwlILwftBgPXr5WpxERyfUyXNwkJydnZQ6RvOXELtj7ObR5x35jvtBWVicSEXEbTj9bSkTugjGwdTJ82hJO7rYPIhYREZfSrU5FssvV87D8Wfh9FTR8AR4ZC57eVqcSEXE7Km5EssueBXB8O3T7QqehRESykIobkayUnAwndkC5+vDAs/Y7DRcoaXUqERG3pjE3IlnlyjlY0AnmtoWLx8DDU4WNiEg2UM+NSFY4sgWW9IOkBOi2CAqWszqRiEieoeJGxNUOfAWLe0NII3hiJgSWsjqRiEieouJGxFWSk8HDA8o3hubjoMHz9lNRIiKSrTTmRsQVDm+AaQ0h5qT9id6NhqqwERGxiIobkbuRnATr34R5j0P+4rpvjYhIDqDTUiKZFRsFSwfA0S3Q9GVoPEK9NSIiOYCKG5HMuhoNMSeg19dQ/kGr04iIyH/ptJSIM5IS4afpkHAdStaA53eqsBERyWHUcyOSUTEn7feuOb4dilaByo+Ap36FRERyGv3PLJIRv38PywaBtz/0WQnlHrA6kYiIpEPFjcidnN4HCzpDaGv42zT7pd4iIpJjqbgRSc+VaHshU7Im9FgGFZuCzWZ1KhERuQMNKBZJy3++hY/rwr7F9ulKzVTYiIjkEipuRG6WGA/fvQSfd7NfBVWlhdWJRETESTotJXLD5TP2sTV//Qpt3oF6A9VbIyKSC6m4EbnBvxAUrgSPfQDBdaxOIyIimaTTUpK3JVyHlaPh5C77c6E6zlZhIyKSy6m4kbwr+k+Y3Rx2zYXow1anERERF9FpKcmb9n0JXw+F/CWg/1ooVcvqRCIi4iIqbiTvibsEq8ZA1Tb28TW+BaxOJCIiLqTiRvKOs7/bBw3nLwbPbIQCJXU1lIiIG9KYG8kb9iyEGU3gxzft04GlVNiIiLgp9dyIe4u/AitHwZ75ULsbtHzd6kQiIpLFVNyI+0pKhNmt4Pyf9gde3tfN6kQiIpINVNyI+zHG/vL0gobP2+9bU6yq1alERCSbqLgR9xJ3Cb4ZAUFloPlYqN3V6kQiIpLNNKBY3MfpfTDjYfhtJRSvbnUaERGxiOXFzdSpU6lQoQJ+fn6EhYWxadOmdJddunQpLVq0oFixYgQGBtKgQQO+//77bEwrOZIxsGM2zHwEvPxh4Aao1cnqVCIiYhFLi5tFixYxbNgwXn75ZSIiImjcuDFt2rTh2LFjaS6/ceNGWrRowcqVK9m1axdNmzalXbt2REREZHNyyXGOboE6T9vvNly0stVpRETEQjZjjLFq5/Xr16du3bpMmzbN0XbPPffwt7/9jQkTJmRoG/feey9dunThlVdeydDysbGxBAUFERMTQ2BgYKZyp2XWpsO8/u1BACZ3q8NjtYJdtm1Jx6k9cPkvCG1lvzLKU0PIRETclTOf35b13MTHx7Nr1y5atmyZor1ly5Zs3bo1Q9tITk7m0qVLFC5cOCsiSk5lDPz8CcxuAdsm/+/KKBERESy8WurcuXMkJSVRokSJFO0lSpTg9OnTGdrG+++/z5UrV+jcuXO6y8TFxREXF+eYjo2NzVxgyRmuXYQVz8PBr6H+IGjxqu40LCIiKVg+oNh2yweTMSZVW1oWLlzIuHHjWLRoEcWLF093uQkTJhAUFOR4lS1b9q4zi4WWPwuRG6HLv6HN2+Dla3UiERHJYSwrbooWLYqnp2eqXpozZ86k6s251aJFi+jXrx9ffPEFzZs3v+2yY8aMISYmxvE6fvz4XWeXbGYMXDln/7rl6/DMJrinnbWZREQkx7KsuPHx8SEsLIw1a9akaF+zZg0NGzZMd72FCxfSu3dvFixYwKOPPnrH/fj6+hIYGJjiJbnI1fOw8CmY+5h90HCRSlAoxOpUIiKSg1k6CnPEiBH06NGD8PBwGjRowIwZMzh27BiDBg0C7L0uJ0+eZN68eYC9sOnZsycffvghDzzwgKPXx9/fn6CgIMveh2SRYz/Dl30h4Yr92VAaNCwiIhlg6adFly5diI6O5tVXXyUqKooaNWqwcuVKQkLsf5lHRUWluOfNJ598QmJiIs899xzPPfeco71Xr17MnTs3u+NLVto+E777O5QJh46f2h+nICIikgGW/yk8ePBgBg8enOa8WwuWH3/8MesDSc4QGAwNX4Bm/wee3lanERGRXMTyq6VEHI5sgW9H2gcQV3sUWoxXYSMiIk5TcSPWS06Gje/Cvx6DMwcg/rLViUREJBez/LSU5HGXz8DSgXD4R3hoFDT5uwYOi4jIXdGniFgr4t/w16/QYxlUamp1GhERcQMqbiT7JSfB8Z8hpCE0Ggp1ekD+YlanEhERN6ExN5K9YqNg3uP2V+wp8PBUYSMiIi6lnhvJPn+ss4+v8fCCp5faL/cWERFxMRU3kj32LoalA+zjajrMUG+NiIhkGRU3krWSk8HDAyo/Aq0nQL1n7NMiIiJZRJ8yknV+Xw1TH7CPs8lXGB54VoWNiIhkOX3SiOslJcDqf8KCTlCoPHj5Wp1IRETyEJ2WEte6eNz+JO9Tu6Hl6/DAc+qtERGRbKXiRlzr2nm4dgH6rIKy91udRkRE8iD9SS13LzEetn4MiXFQqjY897MKGxERsYx6buTuXDgCi/vA6X0QXAfKP2i/MZ+IiIhF1HMjmXfgK5j+kP1UVL/V9sJGRETEYuq5kcw5uQu+6AnVH4f2H4NfkNWJREREABU34qzLZyB/cSgdBj1XQIWHwGazOpWIiIiDTktJxu37Ej6qC/uX2qcrNlFhIyIiOY56buTOEq7Bqpdg11yo2QmqtLA6kYiISLpU3MjtxZ6C+Z0g+g9o9xHU7aneGhERydFU3Mjt5SsKxavDEzOgxL1WpxEREbkjjbmR1OKvwNdD4dQe8PKBJ2eqsBERkVxDxY2kdOYgzGwGe7+Ai0etTiMiIuI0FTdiZwxE/BtmNAVsMGC9/R42IiIiuYzG3Ijd9YuwZizU6gSt3waffFYnEhERyRQVN3nd6f1QoBQEFIHB2+w36BMREcnFdFoqrzIGds6xj6/Z+K69TYWNiIi4AfXc5EXXY+GbYbB/CYT3hebjrE4kIiLiMipu8prEeJj1CMRGQcc5UOMJqxOJiIi4lIqbvMIYMMn2+9Y0fhHK1oPCFa1OJSIi4nIac5MXXLsIX/SEHyfYp2t3VWEjIiJuS8WNuzu5Cz55CA5vgJK1rE4jIiKS5XRayl0ZAz9NgzWvQKla0GsFFCpvdSoREZEsp+LGnZ3YDvWfgUfG2sfaiIiI5AEqbtzN8R1w7QKEtoQnZ4OHp9WJREREspXG3LiL5GTY8iHMaQ07ZtrbVNiIiEgepJ4bd3AlGpYPgkOrodEwaPZ/VicSERGxjIobd7BsIJyKgO5LoEpzq9OIiIhYSsVNbpWcDFejIX8xaPMOePtDYLDVqURERCyn4iY3unwWlg6AK2fhmY1QpJLViURERHIMFTe5TeRGWNLf/iiFJ2Zq0LCIiMgtdLVUbrL1Y5j3OBSrCoM2Q6WmVicSERHJcdRzk5sUDIEmL8FDI9VjIyIikg713OR0f66Hb0faH6dQvT08/HcVNiIiIrehnpucKinR/hTvTe/bTz8lXAOffFanEsnTkpKSSEhIsDqGiNvy9vbG0/Pu/4BXcZMTxZ6CL/vB8Z/hkX9Co+HgoU42EStdvnyZEydOYIyxOoqI27LZbJQpU4b8+fPf1XZU3OREEfPhwhHo/S2ENLA6jUiel5SUxIkTJ8iXLx/FihXDZrNZHUnE7RhjOHv2LCdOnKBKlSp31YOj4ianSEqw99SUfxAeHA7394N8ha1OJSJAQkICxhiKFSuGv7+/1XFE3FaxYsU4cuQICQkJd1Xc6FxHTnDxOMx9FP79JFw+A55eKmxEciD12IhkLVf9jqm4sdp/VsL0B+3jbHp9DfmLW51IREQkV1NxY6Xdn8HnT0FII/tjFMrWszqRiIhIrqfixgpJifZ/q7aBRydC1/k6DSUikoNER0dTvHhxjhw5YnUUt7Fv3z7KlCnDlStXsnxfKm6y24GvYGp9uHQaAoraBw7rPL6IZIHevXtjs9mw2Wx4eXlRrlw5nn32WS5cuJBq2a1bt9K2bVsKFSqEn58fNWvW5P333ycpKSnVsuvXr6dt27YUKVKEfPnyUb16dV588UVOnjyZHW8rW0yYMIF27dpRvnz5VPNatmyJp6cnP/30U6p5Dz/8MMOGDUvVvnz58lTjSeLj43nnnXeoXbs2+fLlo2jRojRq1Ig5c+Zk6f2Uhg4dSlhYGL6+vtx3330ZWicuLo4XXniBokWLEhAQQPv27Tlx4kSKZS5cuECPHj0ICgoiKCiIHj16cPHiRcf8mjVrUq9ePT744AMXvpu0qbjJLolxsHIUfNETilcHLz+rE4lIHtC6dWuioqI4cuQIs2bN4uuvv2bw4MEpllm2bBlNmjShTJkyrF+/nv/85z8MHTqUN954g65du6a4t88nn3xC8+bNKVmyJEuWLOHAgQNMnz6dmJgY3n///Wx7X/Hx8Vm27WvXrjF79mz69++fat6xY8fYtm0bzz//PLNnz870PuLj42nVqhVvvfUWAwcOZOvWrWzfvp3nnnuOjz/+mF9//fVu3sJtGWPo27cvXbp0yfA6w4YNY9myZXz++eds3ryZy5cv89hjj6Uofrt168aePXtYtWoVq1atYs+ePfTo0SPFdvr06cO0adPSLJpdyuQxMTExBjAxMTEu3e7MjX+akL9/Y0L+/o35+peTKWdG/2nM9MbGvFrUmJ9nGJOc7NJ9i0jWunbtmjlw4IC5du2a1VGc0qtXL/P444+naBsxYoQpXLiwY/ry5cumSJEi5oknnki1/ooVKwxgPv/8c2OMMcePHzc+Pj5m2LBhae7vwoUL6Wa5cOGCGTBggClevLjx9fU19957r/n666+NMcaMHTvW1K5dO8XyH3zwgQkJCUn1Xt58801TqlQpExISYl566SVTv379VPuqWbOmeeWVVxzTn376qalWrZrx9fU1VatWNVOmTEk3pzHGLFmyxBQtWjTNeePGjTNdu3Y1Bw8eNAUKFDCXL19OMb9JkyZm6NChqdZbtmyZufkj9+233zYeHh5m9+7dqZaNj49Ptd2skNZxT8vFixeNt7e34+fAGGNOnjxpPDw8zKpVq4wxxhw4cMAA5qeffnIss23bNgOY//znP462uLg44+vra9atW5fmvm73u+bM57fuc5MdrsdAYjz0XwulaludRkRcoN3Hmzl7KS7b91usgC9fv/BgptY9fPgwq1atwtvb29G2evVqoqOjGTlyZKrl27VrR2hoKAsXLqRLly4sXryY+Ph4Ro8eneb2CxYsmGZ7cnIybdq04dKlS/z73/+mUqVKHDhwwOn7mKxbt47AwEDWrFnj6E166623+PPPP6lUqRIAv/76K/v27ePLL78EYObMmYwdO5bJkydTp04dIiIiGDBgAAEBAfTq1SvN/WzcuJHw8PBU7cYY5syZw5QpU6hWrRqhoaF88cUX9OnTx6n3ATB//nyaN29OnTp1Us3z9vZO8T262bFjx6hevfptt/30008zffp0pzOlZ9euXSQkJNCyZUtHW3BwMDVq1GDr1q20atWKbdu2ERQURP369R3LPPDAAwQFBbF161aqVq0KgI+PD7Vr12bTpk00a9bMZRlvZXlxM3XqVN59912ioqK49957mTRpEo0bN053+Q0bNjBixAh+/fVXgoODGT16NIMGDcrGxBmUcA1+mgYNnofgOvDsVj1CQcSNnL0Ux+nY61bHuKNvvvmG/Pnzk5SUxPXr9rwTJ050zP/9998BuOeee9Jcv1q1ao5lDh06RGBgIKVKlXIqw9q1a9m+fTsHDx4kNDQUgIoVKzr9XgICApg1axY+Pj6Otlq1arFgwQL++c9/Avai4f7773fs57XXXuP999/niSeeAKBChQocOHCATz75JN3i5siRIwQHB6f5Pq5evUqrVq0AexExe/bsTBU3hw4d4uGHH3Z6veDgYPbs2XPbZQIDA53e7u2cPn0aHx8fChUqlKK9RIkSnD592rFM8eKpb2VSvHhxxzI3lC5dOssHalta3CxatIhhw4YxdepUGjVqxCeffEKbNm04cOAA5cqVS7V8ZGQkbdu2ZcCAAfz73/9my5YtDB48mGLFivHkk09a8A7SFnApEmZ1gug/7HccLltPhY2ImylWwDdX7Ldp06ZMmzaNq1evMmvWLH7//XdeeOGFVMuZdJ6ZZYxxDIS9+Wtn7NmzhzJlyjgKjsyqWbNmisIGoHv37nz66af885//xBjDwoULHQN6z549y/Hjx+nXrx8DBgxwrJOYmEhQUFC6+7l27Rp+fqnHRc6ePZsuXbrg5WX/6HzqqacYNWoUv/32m6NnIqMyeyy9vLyoXLmy0+tlhVvfQ1rvJ6336e/vz9WrV7M0m6XFzcSJE+nXr59j0NakSZP4/vvvmTZtGhMmTEi1/PTp0ylXrhyTJk0C7H9p7Ny5k/feey/HFDd/89hM4x/mQsHS0H8dlKxhdSQRyQKZPTWU3QICAhwfhh999BFNmzZl/PjxvPbaawCOguPgwYM0bNgw1fr/+c9/HKdBQkNDiYmJISoqyqnemzs9ssLDwyNVcZXW1UIBAQGp2rp168ZLL73E7t27uXbtGsePH6dr166A/XQY2E9N3Xy6BLjtKbGiRYumuqLs/PnzLF++nISEBKZNm+ZoT0pK4tNPP+Xtt98G7L0mMTExqbZ58eLFFD0qoaGhHDx4MN0M6bHitFTJkiWJj4/nwoULKXpvzpw54/iZKVmyJH/99Veqdc+ePUuJEiVStJ0/f95xGjGrWNadEB8fz65du1KcwwP7JXZbt25Nc51t27alWr5Vq1bs3Lkz3cvm4uLiiI2NTfHKKmG235jkM5XTpZvDwB9V2IhIjjN27Fjee+89Tp06Bdj/zy1cuHCaVzqtWLGCQ4cO8dRTTwHQsWNHfHx8eOedd9Lc9s2X/d6sVq1anDhxwnF661bFihXj9OnTKQqcO516uaFMmTI89NBDzJ8/3zGO5caHaYkSJShdujSHDx+mcuXKKV4VKlRId5t16tThwIEDKdrmz59PmTJl+OWXX9izZ4/jNWnSJP71r3+RmGi/f1m1atXYuXNnqm3u2LEjRe9Ot27dWLt2LREREamWTUxMTPdeMDdOS93u9eqrr975wDkhLCwMb29v1qxZ42iLiopi//79juKmQYMGxMTEsH37dscyP//8MzExMamK5v3796c51sil7jjkOIucPHnSAGbLli0p2t944w0TGhqa5jpVqlQxb7zxRoq2LVu2GMCcOnUqzXXGjh1rgFSvrLpaqtNL75qv95xw6bZFxFrudLWUMcaEhYWZ5557zjG9ePFi4+npaQYMGGB++eUXExkZaWbNmmUKFSpkOnbsaJJvusJzypQpxmazmb59+5off/zRHDlyxGzevNkMHDjQjBgxIt0sDz/8sKlRo4ZZvXq1OXz4sFm5cqX57rvvjDH2K21sNpt56623zB9//GEmT55sChUqlObVUmmZMWOGCQ4ONkWLFjWfffZZinkzZ840/v7+ZtKkSea3334ze/fuNZ9++ql5//330826d+9e4+XlZc6fP+9oq127tvn73/+eatnY2Fjj6+trli9fbowxJjIy0vj7+5vBgwebPXv2mN9++81MnjzZ+Pr6mi+++MKx3vXr103jxo1NoUKFzOTJk82ePXvMn3/+aRYtWmTq1q1rIiIi0s13tw4dOmQiIiLMM888Y0JDQ01ERISJiIgwcXFxxhhjTpw4YapWrWp+/vlnxzqDBg0yZcqUMWvXrjW7d+82zZo1M7Vr1zaJiYmOZVq3bm1q1apltm3bZrZt22Zq1qxpHnvssRT7joyMNDabzRw5ciTNbK66Wsry4mbr1q0p2l9//XVTtWrVNNepUqWKefPNN1O0bd682QAmKioqzXWuX79uYmJiHK/jx49nSXETefayWbU/yqzaH2WiLuau/wBF5PbcrbiZP3++8fHxMceOHXO0bdy40bRu3doEBQUZHx8fU716dfPee++l+PC6Yc2aNaZVq1amUKFCxs/Pz1SrVs2MHDky3T8yjTEmOjra9OnTxxQpUsT4+fmZGjVqmG+++cYxf9q0aaZs2bImICDA9OzZ07zxxhsZLm4uXLhgfH19Tb58+cylS5fSfL/33Xef8fHxMYUKFTIPPfSQWbp0abpZjTHmgQceMNOnTzfGGLNz504DmO3bt6e5bLt27Uy7du0c0zt37jStWrUyxYsXN4GBgSY8PNwsXLgw1XrXr183EyZMMDVr1jR+fn6mcOHCplGjRmbu3LkmISHhtvnuRpMmTdL8oz8yMtIYYy9AALN+/XrHOteuXTPPP/+8KVy4sPH39zePPfZYip8fY+zf4+7du5sCBQqYAgUKmO7du6e6PcCbb75pWrVqlW42VxU3NmPSGUWWxeLj48mXLx+LFy+mQ4cOjvahQ4eyZ88eNmzYkGqdhx56iDp16vDhhx862pYtW0bnzp25evVqupfO3Sw2NpagoCBiYmJcPqJcRNzT9evXiYyMpEKFCmkONBX3s3LlSkaOHMn+/fvx0AUhLhEXF0eVKlVYuHAhjRo1SnOZ2/2uOfP5bdl3zMfHh7CwsBTn8ADWrFmT5qA2sJ/Tu3X51atXEx4enqHCRkREJCPatm3LM88841aPlLDa0aNHefnll9MtbFzJ0qulRowYQY8ePQgPD6dBgwbMmDGDY8eOOe5bM2bMGE6ePMm8efMAGDRoEJMnT2bEiBEMGDCAbdu2MXv2bBYuXGjl2xARETc0dOhQqyO4ldDQ0Lu+HUBGWVrcdOnShejoaF599VWioqKoUaMGK1euJCQkBLCPxj527Jhj+QoVKrBy5UqGDx/OlClTCA4O5qOPPsoxl4GLiIiI9Swbc2MVjbkREWdpzI1I9sj1Y25ERHKbPPa3oEi2c9XvmIobEZE7uHE32/j4eIuTiLi3G79jzj5U9VaWPzhTRCSn8/LyIl++fJw9exZvb29dGiySBZKTkzl79iz58uVzPL8rs1TciIjcgc1mo1SpUkRGRnL06FGr44i4LQ8PD8qVK5eph4reTMWNiEgG+Pj4UKVKFZ2aEslCPj4+LukZVXEjIpJBHh4eulpKJBfQiWMRERFxKypuRERExK2ouBERERG3kufG3Ny4QVBsbKzFSURERCSjbnxuZ+RGf3muuLl06RIAZcuWtTiJiIiIOOvSpUsEBQXddpk892yp5ORkTp06RYECBe76OvpbxcbGUrZsWY4fP67nVmUhHefsoeOcPXScs4+OdfbIquNsjOHSpUsEBwff8XLxPNdz4+HhQZkyZbJ0H4GBgfrFyQY6ztlDxzl76DhnHx3r7JEVx/lOPTY3aECxiIiIuBUVNyIiIuJWVNy4kK+vL2PHjsXX19fqKG5Nxzl76DhnDx3n7KNjnT1ywnHOcwOKRURExL2p50ZERETcioobERERcSsqbkRERMStqLgRERERt6LixklTp06lQoUK+Pn5ERYWxqZNm267/IYNGwgLC8PPz4+KFSsyffr0bEqauzlznJcuXUqLFi0oVqwYgYGBNGjQgO+//z4b0+Zezv4837Blyxa8vLy47777sjagm3D2OMfFxfHyyy8TEhKCr68vlSpV4tNPP82mtLmXs8d5/vz51K5dm3z58lGqVCn69OlDdHR0NqXNnTZu3Ei7du0IDg7GZrOxfPnyO65jyeegkQz7/PPPjbe3t5k5c6Y5cOCAGTp0qAkICDBHjx5Nc/nDhw+bfPnymaFDh5oDBw6YmTNnGm9vb/Pll19mc/LcxdnjPHToUPP222+b7du3m99//92MGTPGeHt7m927d2dz8tzF2eN8w8WLF03FihVNy5YtTe3atbMnbC6WmePcvn17U79+fbNmzRoTGRlpfv75Z7Nly5ZsTJ37OHucN23aZDw8PMyHH35oDh8+bDZt2mTuvfde87e//S2bk+cuK1euNC+//LJZsmSJAcyyZctuu7xVn4MqbpxQr149M2jQoBRt1apVMy+99FKay48ePdpUq1YtRdszzzxjHnjggSzL6A6cPc5pqV69uhk/fryro7mVzB7nLl26mP/7v/8zY8eOVXGTAc4e5++++84EBQWZ6Ojo7IjnNpw9zu+++66pWLFiiraPPvrIlClTJssyupuMFDdWfQ7qtFQGxcfHs2vXLlq2bJmivWXLlmzdujXNdbZt25Zq+VatWrFz504SEhKyLGtulpnjfKvk5GQuXbpE4cKFsyKiW8jscZ4zZw5//vknY8eOzeqIbiEzx3nFihWEh4fzzjvvULp0aUJDQxk5ciTXrl3Ljsi5UmaOc8OGDTlx4gQrV67EGMNff/3Fl19+yaOPPpodkfMMqz4H89yDMzPr3LlzJCUlUaJEiRTtJUqU4PTp02muc/r06TSXT0xM5Ny5c5QqVSrL8uZWmTnOt3r//fe5cuUKnTt3zoqIbiEzx/nQoUO89NJLbNq0CS8v/deREZk5zocPH2bz5s34+fmxbNkyzp07x+DBgzl//rzG3aQjM8e5YcOGzJ8/ny5dunD9+nUSExNp3749H3/8cXZEzjOs+hxUz42TbDZbimljTKq2Oy2fVruk5OxxvmHhwoWMGzeORYsWUbx48ayK5zYyepyTkpLo1q0b48ePJzQ0NLviuQ1nfp6Tk5Ox2WzMnz+fevXq0bZtWyZOnMjcuXPVe3MHzhznAwcOMGTIEF555RV27drFqlWriIyMZNCgQdkRNU+x4nNQf35lUNGiRfH09Ez1V8CZM2dSVaU3lCxZMs3lvby8KFKkSJZlzc0yc5xvWLRoEf369WPx4sU0b948K2Pmes4e50uXLrFz504iIiJ4/vnnAfuHsDEGLy8vVq9eTbNmzbIle26SmZ/nUqVKUbp0aYKCghxt99xzD8YYTpw4QZUqVbI0c26UmeM8YcIEGjVqxKhRowCoVasWAQEBNG7cmNdff1096y5i1eegem4yyMfHh7CwMNasWZOifc2aNTRs2DDNdRo0aJBq+dWrVxMeHo63t3eWZc3NMnOcwd5j07t3bxYsWKBz5hng7HEODAxk37597Nmzx/EaNGgQVatWZc+ePdSvXz+7oucqmfl5btSoEadOneLy5cuOtt9//x0PDw/KlCmTpXlzq8wc56tXr+LhkfIj0NPTE/hfz4LcPcs+B7N0uLKbuXGp4ezZs82BAwfMsGHDTEBAgDly5IgxxpiXXnrJ9OjRw7H8jUvghg8fbg4cOGBmz56tS8EzwNnjvGDBAuPl5WWmTJlioqKiHK+LFy9a9RZyBWeP8610tVTGOHucL126ZMqUKWM6duxofv31V7NhwwZTpUoV079/f6veQq7g7HGeM2eO8fLyMlOnTjV//vmn2bx5swkPDzf16tWz6i3kCpcuXTIREREmIiLCAGbixIkmIiLCccl9TvkcVHHjpClTppiQkBDj4+Nj6tatazZs2OCY16tXL9OkSZMUy//444+mTp06xsfHx5QvX95MmzYtmxPnTs4c5yZNmhgg1atXr17ZHzyXcfbn+WYqbjLO2eN88OBB07x5c+Pv72/KlCljRowYYa5evZrNqXMfZ4/zRx99ZKpXr278/f1NqVKlTPfu3c2JEyeyOXXusn79+tv+f5tTPgdtxqj/TURERNyHxtyIiIiIW1FxIyIiIm5FxY2IiIi4FRU3IiIi4lZU3IiIiIhbUXEjIiIibkXFjYiIiLgVFTciksLcuXMpWLCg1TEyrXz58kyaNOm2y4wbN4777rsvW/KISPZTcSPihnr37o3NZkv1+uOPP6yOxty5c1NkKlWqFJ07dyYyMtIl29+xYwcDBw50TNtsNpYvX55imZEjR7Ju3TqX7C89t77PEiVK0K5dO3799Vent5Obi00RK6i4EXFTrVu3JioqKsWrQoUKVscC7A/ijIqK4tSpUyxYsIA9e/bQvn17kpKS7nrbxYoVI1++fLddJn/+/Fn6ROIbbn6f3377LVeuXOHRRx8lPj4+y/ctkpepuBFxU76+vpQsWTLFy9PTk4kTJ1KzZk0CAgIoW7YsgwcPTvEE6lv98ssvNG3alAIFChAYGEhYWBg7d+50zN+6dSsPPfQQ/v7+lC1bliFDhnDlypXbZrPZbJQsWZJSpUrRtGlTxo4dy/79+x09S9OmTaNSpUr4+PhQtWpVPvvssxTrjxs3jnLlyuHr60twcDBDhgxxzLv5tFT58uUB6NChAzabzTF982mp77//Hj8/Py5evJhiH0OGDKFJkyYue5/h4eEMHz6co0eP8ttvvzmWud3348cff6RPnz7ExMQ4eoDGjRsHQHx8PKNHj6Z06dIEBARQv359fvzxx9vmEckrVNyI5DEeHh589NFH7N+/n3/961/88MMPjB49Ot3lu3fvTpkyZdixYwe7du3ipZdewtvbG4B9+/bRqlUrnnjiCfbu3cuiRYvYvHkzzz//vFOZ/P39AUhISGDZsmUMHTqUF198kf379/PMM8/Qp08f1q9fD8CXX37JBx98wCeffMKhQ4dYvnw5NWvWTHO7O3bsAGDOnDlERUU5pm/WvHlzChYsyJIlSxxtSUlJfPHFF3Tv3t1l7/PixYssWLAAwHH84Pbfj4YNGzJp0iRHD1BUVBQjR44EoE+fPmzZsoXPP/+cvXv30qlTJ1q3bs2hQ4cynEnEbWX5ozlFJNv16tXLeHp6moCAAMerY8eOaS77xRdfmCJFijim58yZY4KCghzTBQoUMHPnzk1z3R49epiBAwemaNu0aZPx8PAw165dS3OdW7d//Phx88ADD5gyZcqYuLg407BhQzNgwIAU63Tq1Mm0bdvWGGPM+++/b0JDQ018fHya2w8JCTEffPCBYxowy5YtS7HMrU80HzJkiGnWrJlj+vvvvzc+Pj7m/Pnzd/U+ARMQEGDy5cvneHpy+/bt01z+hjt9P4wx5o8//jA2m82cPHkyRfsjjzxixowZc9vti+QFXtaWViKSVZo2bcq0adMc0wEBAQCsX7+eN998kwMHDhAbG0tiYiLXr1/nypUrjmVuNmLECPr3789nn31G8+bN6dSpE5UqVQJg165d/PHHH8yfP9+xvDGG5ORkIiMjueeee9LMFhMTQ/78+THGcPXqVerWrcvSpUvx8fHh4MGDKQYEAzRq1IgPP/wQgE6dOjFp0iQqVqxI69atadu2Le3atcPLK/P/nXXv3p0GDRpw6tQpgoODmT9/Pm3btqVQoUJ39T4LFCjA7t27SUxMZMOGDbz77rtMnz49xTLOfj8Adu/ejTGG0NDQFO1xcXHZMpZIJKdTcSPipgICAqhcuXKKtqNHj9K2bVsGDRrEa6+9RuHChdm8eTP9+vUjISEhze2MGzeObt268e233/Ldd98xduxYPv/8czp06EBycjLPPPNMijEvN5QrVy7dbDc+9D08PChRokSqD3GbzZZi2hjjaCtbtiy//fYba9asYe3atQwePJh3332XDRs2pDjd44x69epRqVIlPv/8c5599lmWLVvGnDlzHPMz+z49PDwc34Nq1apx+vRpunTpwsaNG4HMfT9u5PH09GTXrl14enqmmJc/f36n3ruIO1JxI5KH7Ny5k8TERN5//308POxD7r744os7rhcaGkpoaCjDhw/nqaeeYs6cOXTo0IG6devy66+/piqi7uTmD/1b3XPPPWzevJmePXs62rZu3Zqid8Tf35/27dvTvn17nnvuOapVq8a+ffuoW7duqu15e3tn6Cqsbt26MX/+fMqUKYOHhwePPvqoY15m3+ethg8fzsSJE1m2bBkdOnTI0PfDx8cnVf46deqQlJTEmTNnaNy48V1lEnFHGlAskodUqlSJxMREPv74Yw4fPsxnn32W6jTJza5du8bzzz/Pjz/+yNGjR9myZQs7duxwFBp///vf2bZtG8899xx79uzh0KFDrFixghdeeCHTGUeNGsXcuXOZPn06hw4dYuLEiSxdutQxkHbu3LnMnj2b/fv3O96Dv78/ISEhaW6vfPnyrFu3jtOnT3PhwoV099u9e3d2797NG2+8QceOHfHz83PMc9X7DAwMpH///owdOxZjTIa+H+XLl+fy5cusW7eOc+fOcfXqVUJDQ+nevTs9e/Zk6dKlREZGsmPHDt5++21WrlzpVCYRt2TlgB8RyRq9evUyjz/+eJrzJk6caEqVKmX8/f1Nq1atzLx58wxgLly4YIxJOYA1Li7OdO3a1ZQtW9b4+PiY4OBg8/zzz6cYRLt9+3bTokULkz9/fhMQEGBq1apl3njjjXSzpTVA9lZTp041FStWNN7e3iY0NNTMmzfPMW/ZsmWmfv36JjAw0AQEBJgHHnjArF271jH/1gHFK1asMJUrVzZeXl4mJCTEGJN6QPEN999/vwHMDz/8kGqeq97n0aNHjZeXl1m0aJEx5s7fD2OMGTRokClSpIgBzNixY40xxsTHx5tXXnnFlC9f3nh7e5uSJUuaDh06mL1796abSSSvsBljjLXllYiIiIjr6LSUiIiIuBUVNyIiIuJWVNyIiIiIW1FxIyIiIm5FxY2IiIi4FRU3IiIi4lZU3IiIiIhbUXEjIiIibkXFjYiIiLgVFTciIiLiVlTciIiIiFtRcSMiIiJu5f8B4HMmTIMlTQsAAAAASUVORK5CYII=",
      "text/plain": [
       "<Figure size 640x480 with 1 Axes>"
      ]
     },
     "metadata": {},
     "output_type": "display_data"
    }
   ],
   "source": [
    "from sklearn.metrics import roc_curve, auc\n",
    "import matplotlib.pyplot as plt\n",
    "\n",
    "# Obter probabilidades preditas para a classe positiva\n",
    "y_prob = clf.predict_proba(X_test_scaled)[:, 1]\n",
    "fpr, tpr, _ = roc_curve(y_test, y_prob)\n",
    "roc_auc = auc(fpr, tpr)\n",
    "\n",
    "plt.figure()\n",
    "plt.plot(fpr, tpr, lw=2, label=f'ROC curve (AUC = {roc_auc:.2f})')\n",
    "plt.plot([0, 1], [0, 1], linestyle='--', lw=1)\n",
    "plt.xlabel('False Positive Rate')\n",
    "plt.ylabel('True Positive Rate')\n",
    "plt.title('Curva ROC')\n",
    "plt.legend(loc='lower right')\n",
    "plt.show()"
   ]
  },
  {
   "cell_type": "markdown",
   "id": "69835e5f",
   "metadata": {},
   "source": [
    "**Storytelling**:  \n",
    "- Um AUC próximo a 1.0 indica excelente poder de separação.  \n",
    "- Analise o ponto da curva onde a sensibilidade (TPR) está alta, mas o FPR ainda é baixo — esse é o limiar ideal para triagem clínica."
   ]
  },
  {
   "cell_type": "markdown",
   "id": "bd83fa04",
   "metadata": {},
   "source": [
    "## 12. Importância das Features  \n",
    "> **Objetivo**: entender o que o modelo “olha” para decidir.  \n",
    "> - Se **T4_T3_ratio** estiver no topo, valida minha hipótese clínica;  \n",
    "> - Demais top features (ex.: `TSH`, `T3`) confirmam ou questionam literatura médica.  \n",
    "  \n",
    "> **Discussão:**  \n",
    "> - Como cada variável impacta o risco de hipotireoidismo?  \n",
    "> - Há correlações inesperadas que merecem investigação adicional?"
   ]
  },
  {
   "cell_type": "code",
   "execution_count": 27,
   "id": "904416a3",
   "metadata": {},
   "outputs": [
    {
     "data": {
      "image/png": "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",
      "text/plain": [
       "<Figure size 800x500 with 1 Axes>"
      ]
     },
     "metadata": {},
     "output_type": "display_data"
    }
   ],
   "source": [
    "import pandas as pd\n",
    "import matplotlib.pyplot as plt\n",
    "\n",
    "# Extrair importâncias e ordenar\n",
    "feat_imp = pd.Series(clf.feature_importances_, index=X_enc.columns)\n",
    "top10 = feat_imp.sort_values(ascending=False).head(10)\n",
    "\n",
    "# Plotar\n",
    "plt.figure(figsize=(8, 5))\n",
    "top10.plot(kind='bar')\n",
    "plt.ylabel('Importância')\n",
    "plt.title('Top 10 Features Mais Relevantes')\n",
    "plt.xticks(rotation=45, ha='right')\n",
    "plt.tight_layout()\n",
    "plt.show()"
   ]
  },
  {
   "cell_type": "markdown",
   "id": "54daaeac",
   "metadata": {},
   "source": [
    "**Storytelling**:  \n",
    "- Veja se a **razão T4_T3_ratio** aparece entre as top features — isso confirma sua relevância clínica.  \n",
    "- Comentar as demais variáveis: por exemplo, se `TSH` ou `T3` isolado aparecem em primeiro, discutir seu papel fisiológico e por que o modelo as valorizou."
   ]
  }
 ],
 "metadata": {
  "kernelspec": {
   "display_name": "Python [conda env:base] *",
   "language": "python",
   "name": "conda-base-py"
  },
  "language_info": {
   "codemirror_mode": {
    "name": "ipython",
    "version": 3
   },
   "file_extension": ".py",
   "mimetype": "text/x-python",
   "name": "python",
   "nbconvert_exporter": "python",
   "pygments_lexer": "ipython3",
   "version": "3.12.3"
  }
 },
 "nbformat": 4,
 "nbformat_minor": 5
}
